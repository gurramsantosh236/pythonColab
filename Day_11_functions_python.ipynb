{
  "nbformat": 4,
  "nbformat_minor": 0,
  "metadata": {
    "colab": {
      "provenance": [],
      "include_colab_link": true
    },
    "kernelspec": {
      "name": "python3",
      "display_name": "Python 3"
    },
    "language_info": {
      "name": "python"
    }
  },
  "cells": [
    {
      "cell_type": "markdown",
      "metadata": {
        "id": "view-in-github",
        "colab_type": "text"
      },
      "source": [
        "<a href=\"https://colab.research.google.com/github/gurramsantosh236/pythonColab/blob/main/Day_11_functions_python.ipynb\" target=\"_parent\"><img src=\"https://colab.research.google.com/assets/colab-badge.svg\" alt=\"Open In Colab\"/></a>"
      ]
    },
    {
      "cell_type": "code",
      "execution_count": null,
      "metadata": {
        "colab": {
          "base_uri": "https://localhost:8080/"
        },
        "id": "LynczderHEfx",
        "outputId": "e3a3c66b-bc98-4877-a8e6-f684c9cf76ac"
      },
      "outputs": [
        {
          "output_type": "stream",
          "name": "stdout",
          "text": [
            "Hello World\n"
          ]
        }
      ],
      "source": [
        "print(\"Hello World\")"
      ]
    },
    {
      "cell_type": "code",
      "source": [
        "#sample function\n",
        "def fun():\n",
        "  print(\"Hello World\")\n",
        "  print(\"Welcome\")\n",
        "print(\"before function call\")\n",
        "print(fun())\n",
        "print(\"after function call\")"
      ],
      "metadata": {
        "id": "m9B-XJS3YQir",
        "outputId": "572a2d63-bf98-4867-f25b-1624693d251b",
        "colab": {
          "base_uri": "https://localhost:8080/"
        }
      },
      "execution_count": 7,
      "outputs": [
        {
          "output_type": "stream",
          "name": "stdout",
          "text": [
            "before function call\n",
            "Hello World\n",
            "Welcome\n",
            "None\n",
            "after function call\n"
          ]
        }
      ]
    },
    {
      "cell_type": "code",
      "source": [
        "# print the square of a number\n",
        "# with out arguments and with out return value\n",
        "def square():\n",
        "  x=int(input(\"enter a number\"))\n",
        "  y=x**2\n",
        "  print(\"square of \",x, \"is:\", y)\n",
        "square()\n"
      ],
      "metadata": {
        "id": "BbLayFtnZIVi",
        "outputId": "e71cd409-492b-429f-d074-8406220cefbc",
        "colab": {
          "base_uri": "https://localhost:8080/"
        }
      },
      "execution_count": 15,
      "outputs": [
        {
          "output_type": "stream",
          "name": "stdout",
          "text": [
            "enter a number9\n",
            "square of  9 is: 81\n"
          ]
        }
      ]
    },
    {
      "cell_type": "code",
      "source": [
        "# print the square of a number\n",
        "# with out arguments and with return value\n",
        "def square():\n",
        "  x=int(input(\"enter a number\"))\n",
        "  y=x**2\n",
        "  print(\"square of \",x, \"is:\", y)\n",
        "  return y\n",
        "square()\n"
      ],
      "metadata": {
        "id": "-667DaE1fN1N",
        "outputId": "ee03803f-103d-437c-e72d-2929adfffc37",
        "colab": {
          "base_uri": "https://localhost:8080/"
        }
      },
      "execution_count": 21,
      "outputs": [
        {
          "output_type": "stream",
          "name": "stdout",
          "text": [
            "enter a number3\n",
            "square of  3 is: 9\n"
          ]
        },
        {
          "output_type": "execute_result",
          "data": {
            "text/plain": [
              "9"
            ]
          },
          "metadata": {},
          "execution_count": 21
        }
      ]
    },
    {
      "cell_type": "code",
      "source": [
        "# print the square of a number\n",
        "# with arguments and with return value\n",
        "def square(x):\n",
        "  y=x**2\n",
        "  print(\"square of \",x, \"is:\", y)\n",
        "  return y\n",
        "\n",
        "print(square(5))\n"
      ],
      "metadata": {
        "id": "AmGrSnwzd_ni",
        "outputId": "55a37164-8e83-435f-d0fd-d2453b80d0b8",
        "colab": {
          "base_uri": "https://localhost:8080/"
        }
      },
      "execution_count": 18,
      "outputs": [
        {
          "output_type": "stream",
          "name": "stdout",
          "text": [
            "square of  5 is: 25\n",
            "25\n"
          ]
        }
      ]
    },
    {
      "cell_type": "code",
      "source": [
        "# print the square of a number\n",
        "# with arguments and with out return value\n",
        "def square(x):\n",
        "  y=x**2\n",
        "  print(\"square of \",x, \"is:\", y)\n",
        "\n",
        "\n",
        "square(5)"
      ],
      "metadata": {
        "id": "5XYwa-vafAWg",
        "outputId": "16588cae-97f0-4299-82c4-be91265b2e25",
        "colab": {
          "base_uri": "https://localhost:8080/"
        }
      },
      "execution_count": 22,
      "outputs": [
        {
          "output_type": "stream",
          "name": "stdout",
          "text": [
            "square of  5 is: 25\n"
          ]
        }
      ]
    },
    {
      "cell_type": "code",
      "source": [
        "# return statement\n",
        "def test(a,b,c,d):\n",
        "  return a,b,c,d\n",
        "x,y,z,w=test(10,20,30,40)\n",
        "print(x,y,z,w)"
      ],
      "metadata": {
        "id": "dKY14dzeg9Bf",
        "outputId": "10bd7263-fa7b-42ef-9792-9fb493acb6dd",
        "colab": {
          "base_uri": "https://localhost:8080/"
        }
      },
      "execution_count": 23,
      "outputs": [
        {
          "output_type": "stream",
          "name": "stdout",
          "text": [
            "10 20 30 40\n"
          ]
        }
      ]
    },
    {
      "cell_type": "code",
      "source": [
        "# return\n",
        "def test1():\n",
        "  l1=[10,20,30,40]\n",
        "  t1=(60,70,80,90)\n",
        "  return l1,t1\n",
        "x,y=test1()\n",
        "print(test1())\n",
        "print(type(x),x)\n",
        "print(type(y),y)\n"
      ],
      "metadata": {
        "id": "DFaZ-Qazhpcj",
        "outputId": "e265e790-cbb3-4020-db84-381b8e92e699",
        "colab": {
          "base_uri": "https://localhost:8080/"
        }
      },
      "execution_count": 26,
      "outputs": [
        {
          "output_type": "stream",
          "name": "stdout",
          "text": [
            "([10, 20, 30, 40], (60, 70, 80, 90))\n",
            "<class 'list'> [10, 20, 30, 40]\n",
            "<class 'tuple'> (60, 70, 80, 90)\n"
          ]
        }
      ]
    },
    {
      "cell_type": "code",
      "source": [
        "# retun tuple values\n",
        "def test2():\n",
        "  t1=(10,20,30,40)\n",
        "  return t1\n",
        "_,x,y,_=test2()\n",
        "print(x,y)"
      ],
      "metadata": {
        "id": "-JyuCfNslvhE",
        "outputId": "732a1bb0-1bbf-40d8-8fc8-89c96baab4b1",
        "colab": {
          "base_uri": "https://localhost:8080/"
        }
      },
      "execution_count": 27,
      "outputs": [
        {
          "output_type": "stream",
          "name": "stdout",
          "text": [
            "20 30\n"
          ]
        }
      ]
    }
  ]
}