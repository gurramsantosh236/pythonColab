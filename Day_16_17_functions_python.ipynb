{
  "nbformat": 4,
  "nbformat_minor": 0,
  "metadata": {
    "colab": {
      "provenance": []
    },
    "kernelspec": {
      "name": "python3",
      "display_name": "Python 3"
    },
    "language_info": {
      "name": "python"
    }
  },
  "cells": [
    {
      "cell_type": "code",
      "execution_count": null,
      "metadata": {
        "colab": {
          "base_uri": "https://localhost:8080/"
        },
        "id": "LynczderHEfx",
        "outputId": "341612f5-47fa-4176-cb7a-3453d0392be7"
      },
      "outputs": [
        {
          "output_type": "stream",
          "name": "stdout",
          "text": [
            "Hello World\n"
          ]
        }
      ],
      "source": [
        "print(\"Hello World\")"
      ]
    },
    {
      "cell_type": "code",
      "source": [
        "# class variable\n",
        "class Student:\n",
        "  student_count = 0\n",
        "  collegename=\"SNIST\"\n",
        "  def __init__(self,name,age):\n",
        "    self.name=name\n",
        "    self.age=age\n",
        "    Student.student_count+=1\n",
        "    print(Student.student_count)\n",
        "\n",
        "  def dispaly(self):\n",
        "    print(self.name,self.age,Student.student_count)\n",
        "\n",
        "s1=Student(\"Ram\",20)\n",
        "s2=Student(\"kishore\",25)\n",
        "s3=Student(\"akber\",29)\n",
        "\n",
        "s1.dispaly()\n",
        "s2.dispaly()\n",
        "s3.dispaly()\n"
      ],
      "metadata": {
        "colab": {
          "base_uri": "https://localhost:8080/"
        },
        "id": "Aluw1kfhB5Hq",
        "outputId": "66ccf06a-2e27-49a4-b56e-216de0e27a32"
      },
      "execution_count": null,
      "outputs": [
        {
          "output_type": "stream",
          "name": "stdout",
          "text": [
            "1\n",
            "2\n",
            "3\n",
            "Ram 20 3\n",
            "kishore 25 3\n",
            "akber 29 3\n"
          ]
        }
      ]
    },
    {
      "cell_type": "code",
      "source": [
        "#class method\n",
        "class Student:\n",
        "  student_count = 0\n",
        "  collegename=\"SNIST\"\n",
        "  def __init__(self,name,age):\n",
        "    self.name=name\n",
        "    self.age=age\n",
        "    Student.student_count+=1\n",
        "    print(Student.student_count)\n",
        "\n",
        "@classmethod()\n",
        "  def print_college(cls): # Define a method to be used with the classmethod decorator\n",
        "    print(cls.collegename)\n",
        "\n",
        "  def dispaly(self):\n",
        "    print(self.name,self.age,Student.student_count)\n",
        "\n",
        "s1=Student(\"Ram\",20)\n",
        "s2=Student(\"kishore\",25)\n",
        "s3=Student(\"akber\",29)\n",
        "\"\"\"\n",
        "s1.dispaly()\n",
        "s2.dispaly()\n",
        "s3.dispaly()\"\"\"\n"
      ],
      "metadata": {
        "colab": {
          "base_uri": "https://localhost:8080/",
          "height": 349
        },
        "id": "JTtriIAtHObp",
        "outputId": "1e9d6be4-5e61-45ce-c47e-eb08778b31c4"
      },
      "execution_count": null,
      "outputs": [
        {
          "output_type": "error",
          "ename": "TypeError",
          "evalue": "classmethod expected 1 argument, got 0",
          "traceback": [
            "\u001b[0;31m---------------------------------------------------------------------------\u001b[0m",
            "\u001b[0;31mTypeError\u001b[0m                                 Traceback (most recent call last)",
            "\u001b[0;32m<ipython-input-4-1c3488103aa5>\u001b[0m in \u001b[0;36m<cell line: 0>\u001b[0;34m()\u001b[0m\n\u001b[1;32m      1\u001b[0m \u001b[0;31m#class method\u001b[0m\u001b[0;34m\u001b[0m\u001b[0;34m\u001b[0m\u001b[0m\n\u001b[0;32m----> 2\u001b[0;31m \u001b[0;32mclass\u001b[0m \u001b[0mStudent\u001b[0m\u001b[0;34m:\u001b[0m\u001b[0;34m\u001b[0m\u001b[0;34m\u001b[0m\u001b[0m\n\u001b[0m\u001b[1;32m      3\u001b[0m   \u001b[0mstudent_count\u001b[0m \u001b[0;34m=\u001b[0m \u001b[0;36m0\u001b[0m\u001b[0;34m\u001b[0m\u001b[0;34m\u001b[0m\u001b[0m\n\u001b[1;32m      4\u001b[0m   \u001b[0mcollegename\u001b[0m\u001b[0;34m=\u001b[0m\u001b[0;34m\"SNIST\"\u001b[0m\u001b[0;34m\u001b[0m\u001b[0;34m\u001b[0m\u001b[0m\n\u001b[1;32m      5\u001b[0m   \u001b[0;32mdef\u001b[0m \u001b[0m__init__\u001b[0m\u001b[0;34m(\u001b[0m\u001b[0mself\u001b[0m\u001b[0;34m,\u001b[0m\u001b[0mname\u001b[0m\u001b[0;34m,\u001b[0m\u001b[0mage\u001b[0m\u001b[0;34m)\u001b[0m\u001b[0;34m:\u001b[0m\u001b[0;34m\u001b[0m\u001b[0;34m\u001b[0m\u001b[0m\n",
            "\u001b[0;32m<ipython-input-4-1c3488103aa5>\u001b[0m in \u001b[0;36mStudent\u001b[0;34m()\u001b[0m\n\u001b[1;32m      9\u001b[0m     \u001b[0mprint\u001b[0m\u001b[0;34m(\u001b[0m\u001b[0mStudent\u001b[0m\u001b[0;34m.\u001b[0m\u001b[0mstudent_count\u001b[0m\u001b[0;34m)\u001b[0m\u001b[0;34m\u001b[0m\u001b[0;34m\u001b[0m\u001b[0m\n\u001b[1;32m     10\u001b[0m \u001b[0;34m\u001b[0m\u001b[0m\n\u001b[0;32m---> 11\u001b[0;31m   \u001b[0;34m@\u001b[0m\u001b[0mclassmethod\u001b[0m\u001b[0;34m(\u001b[0m\u001b[0;34m)\u001b[0m\u001b[0;34m\u001b[0m\u001b[0;34m\u001b[0m\u001b[0m\n\u001b[0m\u001b[1;32m     12\u001b[0m   \u001b[0;32mdef\u001b[0m \u001b[0mprint_college\u001b[0m\u001b[0;34m(\u001b[0m\u001b[0mcls\u001b[0m\u001b[0;34m)\u001b[0m\u001b[0;34m:\u001b[0m \u001b[0;31m# Define a method to be used with the classmethod decorator\u001b[0m\u001b[0;34m\u001b[0m\u001b[0;34m\u001b[0m\u001b[0m\n\u001b[1;32m     13\u001b[0m     \u001b[0mprint\u001b[0m\u001b[0;34m(\u001b[0m\u001b[0mcls\u001b[0m\u001b[0;34m.\u001b[0m\u001b[0mcollegename\u001b[0m\u001b[0;34m)\u001b[0m\u001b[0;34m\u001b[0m\u001b[0;34m\u001b[0m\u001b[0m\n",
            "\u001b[0;31mTypeError\u001b[0m: classmethod expected 1 argument, got 0"
          ]
        }
      ]
    },
    {
      "cell_type": "code",
      "source": [
        "# Inheritance\n",
        "class Employee:\n",
        "  bonus=2000\n",
        "  def display(self):\n",
        "    print(\"This is the emplayee method\")\n",
        "\n",
        "class Manager(Employee):\n",
        "  bonus1=1000\n",
        "  def show(self):\n",
        "    print(\"This is Manager class\")\n",
        "\n",
        "e1=Employee()\n",
        "e1.display()\n",
        "print(e1.bonus)\n",
        "\n",
        "m1=Manager()\n",
        "m1.show()\n",
        "print(m1.bonus1)\n",
        "print(m1.bonus)\n",
        "\n"
      ],
      "metadata": {
        "colab": {
          "base_uri": "https://localhost:8080/"
        },
        "id": "vDBYPN1EJ7yw",
        "outputId": "bbafd0be-4297-403e-ae6c-e0630405f0cc"
      },
      "execution_count": null,
      "outputs": [
        {
          "output_type": "stream",
          "name": "stdout",
          "text": [
            "This is the emplayee method\n",
            "2000\n",
            "This is Manager class\n",
            "1000\n",
            "2000\n"
          ]
        }
      ]
    },
    {
      "cell_type": "code",
      "source": [
        "# Constructor in Inheritance\n",
        "class Father:\n",
        "  def __init__(self):\n",
        "    print(\"This is Father class\")\n",
        "    self.money=10000\n",
        "\n",
        "class Son(Father):\n",
        "  pass\n",
        "\n",
        "s=Son()\n",
        "print(s.__dict__)"
      ],
      "metadata": {
        "colab": {
          "base_uri": "https://localhost:8080/"
        },
        "id": "8AiYQl0PLScG",
        "outputId": "791e2454-e037-4c20-efb5-bbe68f77f233"
      },
      "execution_count": null,
      "outputs": [
        {
          "output_type": "stream",
          "name": "stdout",
          "text": [
            "This is Father class\n",
            "{'money': 10000}\n"
          ]
        }
      ]
    },
    {
      "cell_type": "code",
      "source": [
        "# Constructor in Inheritance\n",
        "class Father:\n",
        "  def __init__(self):\n",
        "    print(\"This is Father class\")\n",
        "    self.vehicle=\"scooter\"\n",
        "\n",
        "class Son(Father):\n",
        "  def __init__(self):\n",
        "    print(\"This is Son class\")\n",
        "    self.vehicle=\"BMW\"\n",
        "\n",
        "s=Son()\n",
        "print(s.__dict__)"
      ],
      "metadata": {
        "colab": {
          "base_uri": "https://localhost:8080/"
        },
        "id": "P9oerSzLMWeK",
        "outputId": "09666893-6e71-4d53-8afc-3e242b0b0198"
      },
      "execution_count": null,
      "outputs": [
        {
          "output_type": "stream",
          "name": "stdout",
          "text": [
            "This is Son class\n",
            "{'vehicle': 'BMW'}\n"
          ]
        }
      ]
    },
    {
      "cell_type": "code",
      "source": [
        "## Super Method\n",
        "\n",
        "class Computer:\n",
        "  def __init__(self):\n",
        "    print(\"This is Computer class constructor\")\n",
        "    self.process=\"i5\"\n",
        "    self.ram=\"8GB\"\n",
        "\n",
        "class Mobile(Computer):\n",
        "   def __init__(self):\n",
        "    super().__init__()\n",
        "    self.model=\"iphone\"\n",
        "    print(\"This is mobile class\")\n",
        "\n",
        "m=Mobile()\n",
        "print(m.__dict__)\n"
      ],
      "metadata": {
        "id": "0NTHFsCvNGUx",
        "outputId": "c365a870-d650-45be-e79c-5f791b331765",
        "colab": {
          "base_uri": "https://localhost:8080/"
        }
      },
      "execution_count": null,
      "outputs": [
        {
          "output_type": "stream",
          "name": "stdout",
          "text": [
            "This is Computer class constructor\n",
            "This is mobile class\n",
            "{'process': 'i5', 'ram': '8GB', 'model': 'iphone'}\n"
          ]
        }
      ]
    },
    {
      "cell_type": "code",
      "source": [
        "#  parent class constructors are parameterised\n",
        "\n",
        "class Computer:\n",
        "  def __init__(self,pro,ramvalue):\n",
        "    print(\"This is Computer class constructor\")\n",
        "    self.process=pro\n",
        "    self.ram=ramvalue\n",
        "\n",
        "class Mobile(Computer):\n",
        "   def __init__(self,pro,ramvalue):\n",
        "    super().__init__(pro,ramvalue)\n",
        "    self.model=\"iphone\"\n",
        "    print(\"This is mobile class\")\n",
        "\n",
        "m=Mobile(\"8GB\",\"i7\")\n",
        "print(m.__dict__)"
      ],
      "metadata": {
        "id": "XfEkm8fEqH4_",
        "outputId": "7663bd7f-281a-4871-ca52-980e61b2646b",
        "colab": {
          "base_uri": "https://localhost:8080/"
        }
      },
      "execution_count": null,
      "outputs": [
        {
          "output_type": "stream",
          "name": "stdout",
          "text": [
            "This is Computer class constructor\n",
            "This is mobile class\n",
            "{'process': '8GB', 'ram': 'i7', 'model': 'iphone'}\n"
          ]
        }
      ]
    },
    {
      "cell_type": "code",
      "source": [
        "#  Both child and parent class constructors are parameterised\n",
        "\n",
        "class Computer:\n",
        "  def __init__(self,pro,ramvalue):\n",
        "    print(\"This is Computer class constructor\")\n",
        "    self.process=pro\n",
        "    self.ram=ramvalue\n",
        "\n",
        "class Mobile(Computer):\n",
        "   def __init__(self,pro,ramvalue,dummy):\n",
        "    super().__init__(pro,ramvalue)\n",
        "    self.model=\"iphone\"\n",
        "    self.dummy=dummy\n",
        "    print(\"This is mobile class\")\n",
        "\n",
        "m=Mobile(\"8GB\",\"i7\",\"dummy\")\n",
        "print(m.__dict__)"
      ],
      "metadata": {
        "id": "QAT_Kbruq88U",
        "outputId": "18bfc529-5063-4b20-fcad-86ed4abb583b",
        "colab": {
          "base_uri": "https://localhost:8080/"
        }
      },
      "execution_count": null,
      "outputs": [
        {
          "output_type": "stream",
          "name": "stdout",
          "text": [
            "This is Computer class constructor\n",
            "This is mobile class\n",
            "{'process': '8GB', 'ram': 'i7', 'model': 'iphone', 'dummy': 'dummy'}\n"
          ]
        }
      ]
    },
    {
      "cell_type": "code",
      "source": [
        "# class varibale inheritance\n",
        "\n",
        "# Parent class with a class variable\n",
        "class Parent:\n",
        "  parent_class_variable = \"I am a parent class variable\"\n",
        "\n",
        "  def __init__(self, name):\n",
        "    self.name = name\n",
        "\n",
        "  def display_parent_variable(self):\n",
        "    print(f\"From Parent instance {self.name}: {Parent.parent_class_variable}\")\n",
        "\n",
        "# Child class inheriting from Parent\n",
        "class Child(Parent):\n",
        "  child_class_variable = \"I am a child class variable\"\n",
        "\n",
        "  def __init__(self, name, age):\n",
        "    super().__init__(name) # Initialize the parent class\n",
        "    self.age = age\n",
        "\n",
        "  def display_variables(self):\n",
        "    print(f\"From Child instance {self.name}:\")\n",
        "    print(f\"  Parent class variable: {self.parent_class_variable}\") # Accessing inherited class variable\n",
        "    print(f\"  Child class variable: {self.child_class_variable}\") # Accessing child class variable\n",
        "\n",
        "# Create an instance of the Child class\n",
        "child_instance = Child(\"Alice\", 10)\n",
        "\n",
        "# Access and display the inherited class variable\n",
        "print(\"Accessing class variables:\")\n",
        "print(f\"From Parent class: {Parent.parent_class_variable}\")\n",
        "print(f\"From Child class (accessing inherited): {Child.parent_class_variable}\")\n",
        "print(f\"From Child instance (accessing inherited): {child_instance.parent_class_variable}\")\n",
        "print(f\"From Child class: {Child.child_class_variable}\")\n",
        "\n",
        "# Use the method to display the variables\n",
        "child_instance.display_variables()\n",
        "\n",
        "# Create a Parent instance to show the difference\n",
        "parent_instance = Parent(\"Bob\")\n",
        "parent_instance.display_parent_variable()\n",
        "# print(parent_instance.child_class_variable) # This would cause an error"
      ],
      "metadata": {
        "colab": {
          "base_uri": "https://localhost:8080/"
        },
        "id": "0LgJz5HdtDFL",
        "outputId": "7a7567ef-3c86-4c70-df03-577f0c7d5af1"
      },
      "execution_count": 1,
      "outputs": [
        {
          "output_type": "stream",
          "name": "stdout",
          "text": [
            "Accessing class variables:\n",
            "From Parent class: I am a parent class variable\n",
            "From Child class (accessing inherited): I am a parent class variable\n",
            "From Child instance (accessing inherited): I am a parent class variable\n",
            "From Child class: I am a child class variable\n",
            "From Child instance Alice:\n",
            "  Parent class variable: I am a parent class variable\n",
            "  Child class variable: I am a child class variable\n",
            "From Parent instance Bob: I am a parent class variable\n"
          ]
        }
      ]
    },
    {
      "cell_type": "code",
      "source": [
        "# Multilevel Inheritance\n",
        "class GrandFather:\n",
        "  grand_attribute=\"This is GrandFather class\"\n",
        "  def __init__(self):\n",
        "    print(self.grand_attribute)\n",
        "class Father(GrandFather):\n",
        "  Father_attribute=\"This is Father class\"\n",
        "  def __init__(self):\n",
        "    super().__init__()\n",
        "    print(self.Father_attribute)\n",
        "class Child(Father):\n",
        "  def __init__(self):\n",
        "    super().__init__()\n",
        "    self.bonus=1000\n",
        "    print(\"This is Child class\")\n",
        "child1=Child()\n",
        "child1.grand_attribute\n",
        "child1.Father_attribute\n",
        "child1.bonus"
      ],
      "metadata": {
        "colab": {
          "base_uri": "https://localhost:8080/"
        },
        "id": "FT-ZupqKui84",
        "outputId": "1d23ecf1-f43d-4a56-8a16-7139df585fce"
      },
      "execution_count": 2,
      "outputs": [
        {
          "output_type": "stream",
          "name": "stdout",
          "text": [
            "This is GrandFather class\n",
            "This is Father class\n",
            "This is Child class\n"
          ]
        },
        {
          "output_type": "execute_result",
          "data": {
            "text/plain": [
              "1000"
            ]
          },
          "metadata": {},
          "execution_count": 2
        }
      ]
    },
    {
      "cell_type": "code",
      "source": [
        "# Multilevel Inheritance\n",
        "class Human():\n",
        "\n",
        "  def __init__(self,name1):\n",
        "    print(\"Human class constructor\")\n",
        "    self.name=name1\n",
        "\n",
        "class Emp(Human):\n",
        "\n",
        "  def __init__(self,name1,name2):\n",
        "    super().__init__(name1)\n",
        "    print(\"Emp class constructor\")\n",
        "    self.lastname =name2\n",
        "\n",
        "\n",
        "class Manager(Emp):\n",
        "\n",
        "  def __init__(self,name1,name2,name3):\n",
        "    super().__init__(name1,name2)\n",
        "    print(\"Mnager class constructor\")\n",
        "    self.city= name3\n",
        "\n",
        "\n",
        "m1 = Manager(\"santosh\",\"kumar\",\"Hyderabad\")\n",
        "\n",
        "print(m1.__dict__)\n",
        ""
      ],
      "metadata": {
        "colab": {
          "base_uri": "https://localhost:8080/"
        },
        "id": "itAcRUdDz9lF",
        "outputId": "442b9f3c-3e9c-46c5-ed3e-613da6852506"
      },
      "execution_count": 4,
      "outputs": [
        {
          "output_type": "stream",
          "name": "stdout",
          "text": [
            "Human class constructor\n",
            "Emp class constructor\n",
            "Mnager class constructor\n",
            "{'name': 'santosh', 'lastname': 'kumar', 'city': 'Hyderabad'}\n"
          ]
        }
      ]
    },
    {
      "cell_type": "code",
      "source": [
        "# Hierarchical Inheritance\n",
        "\n",
        "class Parent:\n",
        "  def __init__(self,name,age):\n",
        "    print(\"This is Parent class\")\n",
        "    self.Parent=name\n",
        "    self.age=age\n",
        "\n",
        "class student(Parent):\n",
        "    def __init__(self,name,age,student_id):\n",
        "      super().__init__(name,age)\n",
        "      print(\"This is student class\")\n",
        "      self.studentID=student_id\n",
        "\n",
        "class emplayee(Parent):\n",
        "    def __init__(self,name,age,Emp_ID):\n",
        "      super().__init__(name,age)\n",
        "      print(\"This is employee class\")\n",
        "      self.EmpID=Emp_ID\n",
        "\n",
        "S1=student(\"Santosh\",26,19876)\n",
        "print(S1.__dict__)\n",
        "E1=emplayee(\"kumar\",46,4565)\n",
        "print(E1.__dict__)"
      ],
      "metadata": {
        "colab": {
          "base_uri": "https://localhost:8080/"
        },
        "id": "Mu0o42PD1USF",
        "outputId": "3133926a-940c-41ef-cb1b-1232e3fabd22"
      },
      "execution_count": 7,
      "outputs": [
        {
          "output_type": "stream",
          "name": "stdout",
          "text": [
            "This is Parent class\n",
            "This is student class\n",
            "{'Parent': 'Santosh', 'age': 26, 'studentID': 19876}\n",
            "This is Parent class\n",
            "This is employee class\n",
            "{'Parent': 'kumar', 'age': 46, 'EmpID': 4565}\n"
          ]
        }
      ]
    },
    {
      "cell_type": "code",
      "source": [
        "# Multiple Inheritance\n",
        "\n",
        "class Country:\n",
        "  office=\"Delhi\"\n",
        "class State:\n",
        "  office=\"Chennai\"\n",
        "class Disctrict(Country,State):\n",
        "  pass\n",
        "class Village(State,Country):\n",
        "  pass\n",
        "\n",
        "d1=Disctrict()\n",
        "v1=Village()\n",
        "print(d1.office)\n",
        "print(v1.office)"
      ],
      "metadata": {
        "colab": {
          "base_uri": "https://localhost:8080/"
        },
        "id": "FJGd8AdC47zP",
        "outputId": "4794237d-c03c-4fa7-8b94-f716c1bd0ef2"
      },
      "execution_count": 10,
      "outputs": [
        {
          "output_type": "stream",
          "name": "stdout",
          "text": [
            "Delhi\n",
            "Chennai\n"
          ]
        }
      ]
    },
    {
      "cell_type": "code",
      "source": [
        "# Multiple Inheritance with constructor\n",
        "\n",
        "class Country:\n",
        "  def __init__(self):\n",
        "    office=\"Delhi\"\n",
        "    print(\"This is Country class:\",office)\n",
        "\n",
        "class State:\n",
        "  def __init__(self):\n",
        "    office=\"Chennai\"\n",
        "    print(\"This is State class:\",office)\n",
        "\n",
        "class District(Country,State):\n",
        "  def __init__(self):\n",
        "    super().__init__()\n",
        "    self.bonus=1000\n",
        "    print(\"This is District class\")\n",
        "\n",
        "class Village(State,Country):\n",
        "  def __init__(self):\n",
        "    super().__init__()\n",
        "    #print(\"This is Village class\")\n",
        "\n",
        "d1=District()\n",
        "v1=Village()\n",
        "print(d1.__dict__)\n",
        "#print(v1.__dict__)"
      ],
      "metadata": {
        "colab": {
          "base_uri": "https://localhost:8080/"
        },
        "id": "p56xdiZ_5yCe",
        "outputId": "c76d35aa-d28f-4b99-ca24-ce0ef20c80eb"
      },
      "execution_count": 34,
      "outputs": [
        {
          "output_type": "stream",
          "name": "stdout",
          "text": [
            "This is Country class: Delhi\n",
            "This is District class\n",
            "This is State class: Chennai\n",
            "This is Village class\n",
            "{'bonus': 1000}\n"
          ]
        }
      ]
    }
  ]
}