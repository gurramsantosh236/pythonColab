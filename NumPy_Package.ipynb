{
  "nbformat": 4,
  "nbformat_minor": 0,
  "metadata": {
    "colab": {
      "provenance": []
    },
    "kernelspec": {
      "name": "python3",
      "display_name": "Python 3"
    },
    "language_info": {
      "name": "python"
    }
  },
  "cells": [
    {
      "cell_type": "code",
      "execution_count": null,
      "metadata": {
        "colab": {
          "base_uri": "https://localhost:8080/"
        },
        "id": "eDqtXmbn2N_N",
        "outputId": "84e1fd95-3d99-4f34-ba55-07df4cc4f0f2"
      },
      "outputs": [
        {
          "output_type": "stream",
          "name": "stdout",
          "text": [
            "[10 20 30 40]\n",
            "<class 'numpy.ndarray'>\n"
          ]
        }
      ],
      "source": [
        "import numpy as np # array creation, arry elements are seperated by white space\n",
        "\n",
        "arr = np.array([10,20,30,40])\n",
        "print(arr)\n",
        "print(type(arr))"
      ]
    },
    {
      "cell_type": "code",
      "source": [
        "l = [10,20,30]\n",
        "print(l)\n",
        "print(type(l)) # elemsta are sepearted by ,"
      ],
      "metadata": {
        "colab": {
          "base_uri": "https://localhost:8080/"
        },
        "id": "qx_qBwH2227K",
        "outputId": "f7a82f77-f079-4e49-90e9-34f4f2857bfe"
      },
      "execution_count": null,
      "outputs": [
        {
          "output_type": "stream",
          "name": "stdout",
          "text": [
            "[10, 20, 30]\n",
            "<class 'list'>\n"
          ]
        }
      ]
    },
    {
      "cell_type": "code",
      "source": [
        "arr = np.array([10, 1.1,20,30, \"BLR\"]) # if we try to create a array with dufferent datatype , it coverts the entire array to a higher data type array\n",
        "print(arr)"
      ],
      "metadata": {
        "colab": {
          "base_uri": "https://localhost:8080/"
        },
        "id": "UxweMlyv3mGx",
        "outputId": "41139370-b055-4cac-ce2e-0003a5e05556"
      },
      "execution_count": null,
      "outputs": [
        {
          "output_type": "stream",
          "name": "stdout",
          "text": [
            "['10' '1.1' '20' '30' 'BLR']\n"
          ]
        }
      ]
    },
    {
      "cell_type": "code",
      "source": [
        "#Operations on Array\n",
        "\n",
        "a1 = np.array([10,20,30])\n",
        "print(a1)\n",
        "\n",
        "a2 = a1+2\n",
        "\n",
        "\n",
        "print(a2)"
      ],
      "metadata": {
        "colab": {
          "base_uri": "https://localhost:8080/"
        },
        "id": "5GFgIA_n40bt",
        "outputId": "2210e9b3-5d49-4cd4-88df-7211e9376c1f"
      },
      "execution_count": null,
      "outputs": [
        {
          "output_type": "stream",
          "name": "stdout",
          "text": [
            "[10 20 30]\n",
            "[12 22 32]\n"
          ]
        }
      ]
    },
    {
      "cell_type": "code",
      "source": [
        "#Operations on List\n",
        "\n",
        "a1 =[10,20,30]\n",
        "print(a1)\n",
        "a2 = a1*3\n",
        "print(a2)"
      ],
      "metadata": {
        "colab": {
          "base_uri": "https://localhost:8080/"
        },
        "id": "NzYR2l1V5S3Y",
        "outputId": "a36d4aab-ab62-457e-fd28-c57871eba99e"
      },
      "execution_count": null,
      "outputs": [
        {
          "output_type": "stream",
          "name": "stdout",
          "text": [
            "[10, 20, 30]\n",
            "[10, 20, 30, 10, 20, 30, 10, 20, 30]\n"
          ]
        }
      ]
    },
    {
      "cell_type": "code",
      "source": [
        "# memory consumption\n",
        "\n",
        "import sys\n",
        "\n",
        "l = [10,20,30]\n",
        "print(sys.getsizeof(l))\n",
        "\n",
        "a = np.array([10,20,30])\n",
        "print(a.itemsize)\n",
        "print(a.nbytes)"
      ],
      "metadata": {
        "colab": {
          "base_uri": "https://localhost:8080/"
        },
        "id": "g5OEyvcY6u4B",
        "outputId": "0aacad76-29fd-4872-c2b0-4a6e347df220"
      },
      "execution_count": null,
      "outputs": [
        {
          "output_type": "stream",
          "name": "stdout",
          "text": [
            "88\n",
            "8\n",
            "24\n"
          ]
        }
      ]
    },
    {
      "cell_type": "code",
      "source": [
        "# creating ndarray\n",
        "\n",
        "a = np.array([10,20,30,40])\n",
        "\n",
        "print(a)\n",
        "print(type(a))\n",
        "print(a.ndim)"
      ],
      "metadata": {
        "colab": {
          "base_uri": "https://localhost:8080/"
        },
        "id": "1OWCfG6_7vfp",
        "outputId": "573a41b4-9faf-4632-cf40-d09005f3b5f0"
      },
      "execution_count": null,
      "outputs": [
        {
          "output_type": "stream",
          "name": "stdout",
          "text": [
            "[10 20 30 40]\n",
            "<class 'numpy.ndarray'>\n",
            "1\n"
          ]
        }
      ]
    },
    {
      "cell_type": "code",
      "source": [
        "#o dim array\n",
        "a= np.array(44)\n",
        "print(a)\n",
        "print(type(a))\n",
        "print(a.ndim)"
      ],
      "metadata": {
        "colab": {
          "base_uri": "https://localhost:8080/"
        },
        "id": "JLTBS51v8EaT",
        "outputId": "5549b3f3-ac7d-4de6-d2e9-ec165b6a5347"
      },
      "execution_count": null,
      "outputs": [
        {
          "output_type": "stream",
          "name": "stdout",
          "text": [
            "44\n",
            "<class 'numpy.ndarray'>\n",
            "0\n"
          ]
        }
      ]
    },
    {
      "cell_type": "code",
      "source": [
        "#2 dim array\n",
        "a= np.array([[10,20,30]])\n",
        "print(a)\n",
        "print(type(a))\n",
        "print(a.ndim)"
      ],
      "metadata": {
        "colab": {
          "base_uri": "https://localhost:8080/"
        },
        "id": "rRmOt1Xf8SCq",
        "outputId": "30e2a491-3765-4bc6-ccb1-66e18b322c26"
      },
      "execution_count": null,
      "outputs": [
        {
          "output_type": "stream",
          "name": "stdout",
          "text": [
            "[[10 20 30]]\n",
            "<class 'numpy.ndarray'>\n",
            "2\n"
          ]
        }
      ]
    },
    {
      "cell_type": "code",
      "source": [
        "#2 dim array\n",
        "a= np.array([[[10,20,30]]])\n",
        "print(a)\n",
        "print(type(a))\n",
        "print(a.ndim)"
      ],
      "metadata": {
        "colab": {
          "base_uri": "https://localhost:8080/"
        },
        "id": "W0hpqOS38gIX",
        "outputId": "d3a47b8d-ec6c-4fc4-c6e1-ad541524165a"
      },
      "execution_count": null,
      "outputs": [
        {
          "output_type": "stream",
          "name": "stdout",
          "text": [
            "[[[10 20 30]]]\n",
            "<class 'numpy.ndarray'>\n",
            "3\n"
          ]
        }
      ]
    },
    {
      "cell_type": "code",
      "source": [
        "#n dimm array\n",
        "\n",
        "n = int(input(\"enter the dim\"))\n",
        "\n",
        "a= np.array([10,20,30], ndmin=n)\n",
        "print(a)\n",
        "print(a.ndim)"
      ],
      "metadata": {
        "colab": {
          "base_uri": "https://localhost:8080/"
        },
        "id": "VQTbziPw8qPt",
        "outputId": "6fb2f3fc-63f6-4c64-ca44-9a0a4d15855c"
      },
      "execution_count": null,
      "outputs": [
        {
          "output_type": "stream",
          "name": "stdout",
          "text": [
            "enter the dim7\n",
            "[[[[[[[10 20 30]]]]]]]\n",
            "7\n"
          ]
        }
      ]
    },
    {
      "cell_type": "code",
      "source": [
        "a = np.array([[10,20,30],[40,50,60]])\n",
        "print(a)\n",
        "print(a.ndim)"
      ],
      "metadata": {
        "colab": {
          "base_uri": "https://localhost:8080/"
        },
        "id": "ZthhD06f9Qap",
        "outputId": "79ad4acd-3d6d-40fb-dd99-cd6b3fe3e510"
      },
      "execution_count": null,
      "outputs": [
        {
          "output_type": "stream",
          "name": "stdout",
          "text": [
            "[[10 20 30]\n",
            " [40 50 60]]\n",
            "2\n"
          ]
        }
      ]
    },
    {
      "cell_type": "code",
      "source": [
        "a = np.array([[10,20,30],[40,50,60]])\n",
        "\n",
        "print(a)\n",
        "\n",
        "print(a.shape)\n",
        "print(a.size)\n",
        "print(a.dtype)\n",
        "print(a.itemsize)\n",
        "print(a.nbytes)\n",
        "print(a.min())\n",
        "print(a.max())\n",
        "print(a.sum())\n",
        "\n",
        "print(a.sum(axis=0))\n",
        "print(a.sum(axis=1))\n",
        "\n",
        "print(a.mean())\n",
        "print(a.std())\n",
        "print(a.var())"
      ],
      "metadata": {
        "colab": {
          "base_uri": "https://localhost:8080/"
        },
        "id": "TIl6gA2d9mBJ",
        "outputId": "6cdb0f6b-2687-48c2-8eb6-da79d54645f9"
      },
      "execution_count": null,
      "outputs": [
        {
          "output_type": "stream",
          "name": "stdout",
          "text": [
            "[[10 20 30]\n",
            " [40 50 60]]\n",
            "(2, 3)\n",
            "6\n",
            "int64\n",
            "8\n",
            "48\n",
            "10\n",
            "60\n",
            "210\n",
            "[50 70 90]\n",
            "[ 60 150]\n",
            "35.0\n",
            "17.07825127659933\n",
            "291.6666666666667\n"
          ]
        }
      ]
    },
    {
      "cell_type": "code",
      "source": [
        "# create a nd array with all zeros\n",
        "\n",
        "a = np.zeros(4)\n",
        "print(a)\n",
        "print(a.dtype)\n",
        "print(a.ndim)\n",
        "print(a.shape)"
      ],
      "metadata": {
        "colab": {
          "base_uri": "https://localhost:8080/"
        },
        "id": "DWxQ5Vdh_eb7",
        "outputId": "3adcafca-f507-406c-f8a2-c9aee77b8b72"
      },
      "execution_count": null,
      "outputs": [
        {
          "output_type": "stream",
          "name": "stdout",
          "text": [
            "[0. 0. 0. 0.]\n",
            "float64\n",
            "1\n",
            "(4,)\n"
          ]
        }
      ]
    },
    {
      "cell_type": "code",
      "source": [
        "# create a nd array with all zeros\n",
        "\n",
        "a = np.zeros((4,3), dtype='int')\n",
        "print(a)\n",
        "print(a.dtype)\n",
        "print(a.ndim)\n",
        "print(a.shape)"
      ],
      "metadata": {
        "colab": {
          "base_uri": "https://localhost:8080/"
        },
        "id": "fxOOLMit_6Qb",
        "outputId": "03eb2c28-bd38-46ef-ab2a-d3b5fc1bb43f"
      },
      "execution_count": null,
      "outputs": [
        {
          "output_type": "stream",
          "name": "stdout",
          "text": [
            "[[0 0 0]\n",
            " [0 0 0]\n",
            " [0 0 0]\n",
            " [0 0 0]]\n",
            "int64\n",
            "2\n",
            "(4, 3)\n"
          ]
        }
      ]
    },
    {
      "cell_type": "code",
      "source": [
        "# create a nd array with all zeros\n",
        "\n",
        "a = np.ones((4,3), dtype='int')\n",
        "print(a)\n",
        "print(a.dtype)\n",
        "print(a.ndim)\n",
        "print(a.shape)"
      ],
      "metadata": {
        "colab": {
          "base_uri": "https://localhost:8080/"
        },
        "id": "U0mz68tfAPBF",
        "outputId": "ee78d8bc-02ee-4779-be1b-86f2d5ccf7f4"
      },
      "execution_count": null,
      "outputs": [
        {
          "output_type": "stream",
          "name": "stdout",
          "text": [
            "[[1 1 1]\n",
            " [1 1 1]\n",
            " [1 1 1]\n",
            " [1 1 1]]\n",
            "int64\n",
            "2\n",
            "(4, 3)\n"
          ]
        }
      ]
    },
    {
      "cell_type": "code",
      "source": [
        "# create a nd array with all zeros\n",
        "\n",
        "a = np.ones((4,3), dtype='float') * 7\n",
        "print(a)\n",
        "print(a.dtype)\n",
        "print(a.ndim)\n",
        "print(a.shape)"
      ],
      "metadata": {
        "colab": {
          "base_uri": "https://localhost:8080/"
        },
        "id": "tQM8dd58AaJt",
        "outputId": "a848e695-f8e4-45ea-c1fd-7c4cd7d83323"
      },
      "execution_count": null,
      "outputs": [
        {
          "output_type": "stream",
          "name": "stdout",
          "text": [
            "[[7. 7. 7.]\n",
            " [7. 7. 7.]\n",
            " [7. 7. 7.]\n",
            " [7. 7. 7.]]\n",
            "float64\n",
            "2\n",
            "(4, 3)\n"
          ]
        }
      ]
    },
    {
      "cell_type": "code",
      "source": [
        "#arange function\n",
        "a = np.arange(10)\n",
        "print(a)\n",
        "print(a.ndim)\n",
        "print(a.shape)"
      ],
      "metadata": {
        "colab": {
          "base_uri": "https://localhost:8080/"
        },
        "id": "iI9RpsZEBCa-",
        "outputId": "ca9fc672-d3a9-41f8-f471-01ae6a22b1c6"
      },
      "execution_count": null,
      "outputs": [
        {
          "output_type": "stream",
          "name": "stdout",
          "text": [
            "[0 1 2 3 4 5 6 7 8 9]\n",
            "1\n",
            "(10,)\n"
          ]
        }
      ]
    },
    {
      "cell_type": "code",
      "source": [
        "#arange function\n",
        "a = np.arange(2,10,2,dtype = 'float')\n",
        "print(a)\n",
        "print(a.ndim)\n",
        "print(a.shape)"
      ],
      "metadata": {
        "colab": {
          "base_uri": "https://localhost:8080/"
        },
        "id": "5C3lW6yUBUcO",
        "outputId": "47aa4dcb-d083-4f9e-f454-fbb29ad105e7"
      },
      "execution_count": null,
      "outputs": [
        {
          "output_type": "stream",
          "name": "stdout",
          "text": [
            "[2. 4. 6. 8.]\n",
            "1\n",
            "(4,)\n"
          ]
        }
      ]
    },
    {
      "cell_type": "code",
      "source": [
        "\n",
        "#linspace- generate numbers in linear space\n",
        "\n",
        "a = np.linspace(1,2,5)\n",
        "print(a)"
      ],
      "metadata": {
        "colab": {
          "base_uri": "https://localhost:8080/"
        },
        "id": "tjGq6hEbB6_V",
        "outputId": "72609e5d-9ad3-4fb5-bdbc-549c73411f9e"
      },
      "execution_count": null,
      "outputs": [
        {
          "output_type": "stream",
          "name": "stdout",
          "text": [
            "[1.   1.25 1.5  1.75 2.  ]\n"
          ]
        }
      ]
    },
    {
      "cell_type": "code",
      "metadata": {
        "colab": {
          "base_uri": "https://localhost:8080/"
        },
        "id": "98d71c7d",
        "outputId": "c079f5f7-eb24-47d6-c757-2d0298820d0e"
      },
      "source": [
        "# Create a 1D array using linspace\n",
        "linear_space = np.linspace(1, 10, 12)  # Generates 12 numbers between 1 and 10\n",
        "\n",
        "# Reshape the 1D array into a 2D array (e.g., 3 rows and 4 columns)\n",
        "two_d_array = linear_space.reshape(3, 4)\n",
        "\n",
        "print(two_d_array)"
      ],
      "execution_count": null,
      "outputs": [
        {
          "output_type": "stream",
          "name": "stdout",
          "text": [
            "[[ 1.          1.81818182  2.63636364  3.45454545]\n",
            " [ 4.27272727  5.09090909  5.90909091  6.72727273]\n",
            " [ 7.54545455  8.36363636  9.18181818 10.        ]]\n"
          ]
        }
      ]
    },
    {
      "cell_type": "code",
      "source": [
        "#Matrix\n",
        "\n",
        "mat = np.matrix([[1,2,3],[4,5,6]])\n",
        "print(mat)\n",
        "print(type(mat))"
      ],
      "metadata": {
        "colab": {
          "base_uri": "https://localhost:8080/"
        },
        "id": "ntzaYDnSDqCB",
        "outputId": "6d3b4076-5f6f-4b76-99f9-a6d3d82b3968"
      },
      "execution_count": null,
      "outputs": [
        {
          "output_type": "stream",
          "name": "stdout",
          "text": [
            "[[1 2 3]\n",
            " [4 5 6]]\n",
            "<class 'numpy.matrix'>\n"
          ]
        }
      ]
    },
    {
      "cell_type": "code",
      "source": [
        "# transpose of a mtrix\n",
        "mat = np.matrix([[1,2,3],[4,5,6]])\n",
        "print(mat)\n",
        "\n",
        "trans = mat.T\n",
        "print(mat)\n",
        "print(trans)"
      ],
      "metadata": {
        "colab": {
          "base_uri": "https://localhost:8080/"
        },
        "id": "Pb1e01ULEGvs",
        "outputId": "0b391620-66b5-459a-dc3f-f1434b29a74d"
      },
      "execution_count": null,
      "outputs": [
        {
          "output_type": "stream",
          "name": "stdout",
          "text": [
            "[[1 2 3]\n",
            " [4 5 6]]\n",
            "[[1 2 3]\n",
            " [4 5 6]]\n",
            "[[1 4]\n",
            " [2 5]\n",
            " [3 6]]\n"
          ]
        }
      ]
    },
    {
      "cell_type": "code",
      "source": [
        "# identity matrix\n",
        "\n",
        "mat = np.identity(3)\n",
        "print(mat)"
      ],
      "metadata": {
        "colab": {
          "base_uri": "https://localhost:8080/"
        },
        "id": "oZ6V_b7tEd9X",
        "outputId": "f33a5301-12d3-4359-d52b-515e8c71c0d9"
      },
      "execution_count": null,
      "outputs": [
        {
          "output_type": "stream",
          "name": "stdout",
          "text": [
            "[[1. 0. 0.]\n",
            " [0. 1. 0.]\n",
            " [0. 0. 1.]]\n"
          ]
        }
      ]
    },
    {
      "cell_type": "code",
      "source": [
        "a = np.diag([10,20,30])\n",
        "print(a)"
      ],
      "metadata": {
        "colab": {
          "base_uri": "https://localhost:8080/"
        },
        "id": "TTreBzQhEt6x",
        "outputId": "4b7b5cb2-c393-4e24-93cf-014e4d8acf2d"
      },
      "execution_count": null,
      "outputs": [
        {
          "output_type": "stream",
          "name": "stdout",
          "text": [
            "[[10  0  0]\n",
            " [ 0 20  0]\n",
            " [ 0  0 30]]\n"
          ]
        }
      ]
    },
    {
      "cell_type": "code",
      "source": [
        "# random numbers\n",
        "\n",
        "a = np.random.random(10)\n",
        "print(a)"
      ],
      "metadata": {
        "colab": {
          "base_uri": "https://localhost:8080/"
        },
        "id": "f-hqx-xHE3kT",
        "outputId": "4da339fa-fbd7-4f22-c0bd-76a1ae628781"
      },
      "execution_count": null,
      "outputs": [
        {
          "output_type": "stream",
          "name": "stdout",
          "text": [
            "[0.10981565 0.61255507 0.69165976 0.58706504 0.29290614 0.12693574\n",
            " 0.07623645 0.83101348 0.98919298 0.29651471]\n"
          ]
        }
      ]
    },
    {
      "cell_type": "code",
      "source": [
        "a = np.random.random((3,3,))\n",
        "print(a)"
      ],
      "metadata": {
        "colab": {
          "base_uri": "https://localhost:8080/"
        },
        "id": "EIObmyKgFg3P",
        "outputId": "e767d126-97e7-4e2d-f9a2-7c2c4eccf284"
      },
      "execution_count": null,
      "outputs": [
        {
          "output_type": "stream",
          "name": "stdout",
          "text": [
            "[[0.68005548 0.43992827 0.15062832]\n",
            " [0.02683189 0.73178775 0.1087211 ]\n",
            " [0.91036725 0.30111957 0.16945403]]\n"
          ]
        }
      ]
    },
    {
      "cell_type": "code",
      "source": [
        "r = np.random.randint(11,150, size =5)\n",
        "print(r)"
      ],
      "metadata": {
        "colab": {
          "base_uri": "https://localhost:8080/"
        },
        "id": "MBAGRP8rFw64",
        "outputId": "dba1c944-12c9-4297-c4f4-4d889bf6de13"
      },
      "execution_count": null,
      "outputs": [
        {
          "output_type": "stream",
          "name": "stdout",
          "text": [
            "[142 118 143 104  83]\n"
          ]
        }
      ]
    },
    {
      "cell_type": "code",
      "source": [
        "r = np.random.uniform(1,100, size=10)\n",
        "print(r)"
      ],
      "metadata": {
        "colab": {
          "base_uri": "https://localhost:8080/"
        },
        "id": "0bAtqXiQGIbm",
        "outputId": "a8094aa6-2a03-4e0f-e5ae-914fc06c0a47"
      },
      "execution_count": null,
      "outputs": [
        {
          "output_type": "stream",
          "name": "stdout",
          "text": [
            "[89.2085604  57.91191596 99.78890461 81.07388874 67.17999009 93.85729551\n",
            " 39.85608367 76.11054083 87.29562846 17.73468697]\n"
          ]
        }
      ]
    },
    {
      "cell_type": "code",
      "source": [
        "#choosing random numbers\n",
        "arr_2d=np.arange(1,101).reshape(10,10)\n",
        "print(arr_2d)"
      ],
      "metadata": {
        "colab": {
          "base_uri": "https://localhost:8080/"
        },
        "id": "mXUGzKGFut5A",
        "outputId": "ff7fd45a-2e3b-4a8d-f7b3-3687d0927caf"
      },
      "execution_count": null,
      "outputs": [
        {
          "output_type": "stream",
          "name": "stdout",
          "text": [
            "[[  1   2   3   4   5   6   7   8   9  10]\n",
            " [ 11  12  13  14  15  16  17  18  19  20]\n",
            " [ 21  22  23  24  25  26  27  28  29  30]\n",
            " [ 31  32  33  34  35  36  37  38  39  40]\n",
            " [ 41  42  43  44  45  46  47  48  49  50]\n",
            " [ 51  52  53  54  55  56  57  58  59  60]\n",
            " [ 61  62  63  64  65  66  67  68  69  70]\n",
            " [ 71  72  73  74  75  76  77  78  79  80]\n",
            " [ 81  82  83  84  85  86  87  88  89  90]\n",
            " [ 91  92  93  94  95  96  97  98  99 100]]\n"
          ]
        }
      ]
    },
    {
      "cell_type": "code",
      "source": [
        "#choosing random column numbers"
      ],
      "metadata": {
        "id": "DxksUFkZwOoc"
      },
      "execution_count": null,
      "outputs": []
    },
    {
      "cell_type": "code",
      "source": [
        "#shuffling the array\n",
        "a=np.arange(10)\n",
        "print(a)\n",
        "np.random.shuffle(a)# shuffle the original array\n",
        "print(a)"
      ],
      "metadata": {
        "colab": {
          "base_uri": "https://localhost:8080/"
        },
        "id": "yj48wDQWwPGt",
        "outputId": "0db8194b-9f03-4f93-bcde-e3556225f3d8"
      },
      "execution_count": null,
      "outputs": [
        {
          "output_type": "stream",
          "name": "stdout",
          "text": [
            "[0 1 2 3 4 5 6 7 8 9]\n",
            "[0 3 8 2 4 5 9 7 1 6]\n"
          ]
        }
      ]
    },
    {
      "cell_type": "code",
      "source": [
        "# permutation\n",
        "a=np.random.permutation(10)\n",
        "print(a)"
      ],
      "metadata": {
        "colab": {
          "base_uri": "https://localhost:8080/"
        },
        "id": "o13RsuW1xD_h",
        "outputId": "54f7c7de-e15c-4131-e30f-2516c7b16db4"
      },
      "execution_count": null,
      "outputs": [
        {
          "output_type": "stream",
          "name": "stdout",
          "text": [
            "[5 3 7 1 9 2 6 4 0 8]\n"
          ]
        }
      ]
    },
    {
      "cell_type": "code",
      "source": [
        "# permutations with 2D array\n",
        "array_3d=np.arange(0,20).reshape(4,5)\n",
        "print(arr_2d)\n",
        "a=np.random.permutation(array_3d)\n",
        "print(a)\n",
        "print(arr_2d)# original array still remains same"
      ],
      "metadata": {
        "colab": {
          "base_uri": "https://localhost:8080/"
        },
        "id": "xos-wfx_xTIC",
        "outputId": "174ea33e-1d08-4f9e-aa08-f8613e6a6e33"
      },
      "execution_count": null,
      "outputs": [
        {
          "output_type": "stream",
          "name": "stdout",
          "text": [
            "[[  1   2   3   4   5   6   7   8   9  10]\n",
            " [ 11  12  13  14  15  16  17  18  19  20]\n",
            " [ 21  22  23  24  25  26  27  28  29  30]\n",
            " [ 31  32  33  34  35  36  37  38  39  40]\n",
            " [ 41  42  43  44  45  46  47  48  49  50]\n",
            " [ 51  52  53  54  55  56  57  58  59  60]\n",
            " [ 61  62  63  64  65  66  67  68  69  70]\n",
            " [ 71  72  73  74  75  76  77  78  79  80]\n",
            " [ 81  82  83  84  85  86  87  88  89  90]\n",
            " [ 91  92  93  94  95  96  97  98  99 100]]\n",
            "[[ 0  1  2  3  4]\n",
            " [ 5  6  7  8  9]\n",
            " [15 16 17 18 19]\n",
            " [10 11 12 13 14]]\n",
            "[[  1   2   3   4   5   6   7   8   9  10]\n",
            " [ 11  12  13  14  15  16  17  18  19  20]\n",
            " [ 21  22  23  24  25  26  27  28  29  30]\n",
            " [ 31  32  33  34  35  36  37  38  39  40]\n",
            " [ 41  42  43  44  45  46  47  48  49  50]\n",
            " [ 51  52  53  54  55  56  57  58  59  60]\n",
            " [ 61  62  63  64  65  66  67  68  69  70]\n",
            " [ 71  72  73  74  75  76  77  78  79  80]\n",
            " [ 81  82  83  84  85  86  87  88  89  90]\n",
            " [ 91  92  93  94  95  96  97  98  99 100]]\n"
          ]
        }
      ]
    },
    {
      "cell_type": "code",
      "source": [
        "array_2d=np.arange(0,20).reshape(4,5)\n",
        "print(arr_2d)\n",
        "num_rows=array_2d.shape[0]\n",
        "shuffled_index=np.random.permutation(num_rows) # row shuffling\n",
        "print(shuffled_index)\n",
        "shuffled_array=array_2d[shuffled_index] # column shuffling\n",
        "print(shuffled_array)"
      ],
      "metadata": {
        "colab": {
          "base_uri": "https://localhost:8080/"
        },
        "id": "Rm6hk1evzAZP",
        "outputId": "8732abcc-51b7-4569-e8d1-bf67aae98dcd"
      },
      "execution_count": null,
      "outputs": [
        {
          "output_type": "stream",
          "name": "stdout",
          "text": [
            "[[  1   2   3   4   5   6   7   8   9  10]\n",
            " [ 11  12  13  14  15  16  17  18  19  20]\n",
            " [ 21  22  23  24  25  26  27  28  29  30]\n",
            " [ 31  32  33  34  35  36  37  38  39  40]\n",
            " [ 41  42  43  44  45  46  47  48  49  50]\n",
            " [ 51  52  53  54  55  56  57  58  59  60]\n",
            " [ 61  62  63  64  65  66  67  68  69  70]\n",
            " [ 71  72  73  74  75  76  77  78  79  80]\n",
            " [ 81  82  83  84  85  86  87  88  89  90]\n",
            " [ 91  92  93  94  95  96  97  98  99 100]]\n",
            "[0 1 2 3]\n",
            "[[ 0  1  2  3  4]\n",
            " [ 5  6  7  8  9]\n",
            " [10 11 12 13 14]\n",
            " [15 16 17 18 19]]\n"
          ]
        }
      ]
    },
    {
      "cell_type": "code",
      "source": [
        "#grouping and splitting---not completed\n",
        "array_1d=np.arange(10)\n",
        "print(array_1d)\n",
        "array_2d=np.arange(0,18).reshape(3,6)\n",
        "print(array_2d)\n",
        "array_3d=np.arange(18,36).reshape(3,6)\n",
        "print(array_3d)"
      ],
      "metadata": {
        "colab": {
          "base_uri": "https://localhost:8080/"
        },
        "id": "MBnaEn7q0dM0",
        "outputId": "87f40c84-dae3-4590-84f8-901de04111f3"
      },
      "execution_count": null,
      "outputs": [
        {
          "output_type": "stream",
          "name": "stdout",
          "text": [
            "[0 1 2 3 4 5 6 7 8 9]\n",
            "[[ 0  1  2  3  4  5]\n",
            " [ 6  7  8  9 10 11]\n",
            " [12 13 14 15 16 17]]\n",
            "[[18 19 20 21 22 23]\n",
            " [24 25 26 27 28 29]\n",
            " [30 31 32 33 34 35]]\n"
          ]
        }
      ]
    },
    {
      "cell_type": "code",
      "source": [
        "# stacking"
      ],
      "metadata": {
        "id": "7kFVDev54ja1"
      },
      "execution_count": null,
      "outputs": []
    },
    {
      "cell_type": "code",
      "source": [
        "# vertical staking\n"
      ],
      "metadata": {
        "id": "cEpuM3GK4q1v"
      },
      "execution_count": null,
      "outputs": []
    },
    {
      "cell_type": "code",
      "source": [
        "# horizontal staking"
      ],
      "metadata": {
        "id": "-e3Glpty4tbA"
      },
      "execution_count": null,
      "outputs": []
    },
    {
      "cell_type": "code",
      "source": [
        "#np.split\n"
      ],
      "metadata": {
        "id": "B2NRt6QJ5ekG"
      },
      "execution_count": null,
      "outputs": []
    },
    {
      "cell_type": "code",
      "source": [
        "import numpy as np\n",
        "arr1=np.arange(20)\n",
        "print(arr1)\n",
        "arr2=np.arange(20,40)\n",
        "print(arr2)\n",
        "print(np.split(arr1,4))"
      ],
      "metadata": {
        "id": "4FZ4uprDeSs7",
        "outputId": "c4973abc-b747-4ce4-8baf-c9eb3d25c886",
        "colab": {
          "base_uri": "https://localhost:8080/"
        }
      },
      "execution_count": 3,
      "outputs": [
        {
          "output_type": "stream",
          "name": "stdout",
          "text": [
            "[ 0  1  2  3  4  5  6  7  8  9 10 11 12 13 14 15 16 17 18 19]\n",
            "[20 21 22 23 24 25 26 27 28 29 30 31 32 33 34 35 36 37 38 39]\n",
            "[array([0, 1, 2, 3, 4]), array([5, 6, 7, 8, 9]), array([10, 11, 12, 13, 14]), array([15, 16, 17, 18, 19])]\n"
          ]
        }
      ]
    },
    {
      "cell_type": "code",
      "source": [
        "#\n",
        "array=np.array([([\"Apple\", \"Microsoft\", \"Amazon\", \"Google\"],\n",
        "[\"Cupertino\", \"Redmond\", \"Seattle\", \"Mountain View\"])])\n",
        "print(array)\n"
      ],
      "metadata": {
        "id": "jmpRGMczfMxk",
        "outputId": "7d967fdb-ef83-4404-ff7c-714f368b2d69",
        "colab": {
          "base_uri": "https://localhost:8080/"
        }
      },
      "execution_count": 4,
      "outputs": [
        {
          "output_type": "stream",
          "name": "stdout",
          "text": [
            "[[['Apple' 'Microsoft' 'Amazon' 'Google']\n",
            "  ['Cupertino' 'Redmond' 'Seattle' 'Mountain View']]]\n"
          ]
        }
      ]
    },
    {
      "cell_type": "code",
      "source": [
        "# Horizontal split\n",
        "companies,cities=np.hsplit(array,2)\n",
        "print(companies)\n",
        "print(cities)"
      ],
      "metadata": {
        "id": "Q84LHplDgqL7",
        "outputId": "a3627af7-a8f1-4f13-ccd5-7671abea3f6c",
        "colab": {
          "base_uri": "https://localhost:8080/"
        }
      },
      "execution_count": 7,
      "outputs": [
        {
          "output_type": "stream",
          "name": "stdout",
          "text": [
            "[[['Apple' 'Microsoft' 'Amazon' 'Google']]]\n",
            "[[['Cupertino' 'Redmond' 'Seattle' 'Mountain View']]]\n"
          ]
        }
      ]
    }
  ]
}