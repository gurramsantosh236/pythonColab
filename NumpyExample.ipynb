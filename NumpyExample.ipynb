{
  "nbformat": 4,
  "nbformat_minor": 0,
  "metadata": {
    "colab": {
      "provenance": []
    },
    "kernelspec": {
      "name": "python3",
      "display_name": "Python 3"
    },
    "language_info": {
      "name": "python"
    }
  },
  "cells": [
    {
      "cell_type": "code",
      "execution_count": null,
      "metadata": {
        "colab": {
          "base_uri": "https://localhost:8080/"
        },
        "id": "LynczderHEfx",
        "outputId": "341612f5-47fa-4176-cb7a-3453d0392be7"
      },
      "outputs": [
        {
          "output_type": "stream",
          "name": "stdout",
          "text": [
            "Hello World\n"
          ]
        }
      ],
      "source": [
        "print(\"Hello World\")"
      ]
    },
    {
      "cell_type": "code",
      "source": [
        "import numpy as np # array creation array elements are saperated by space\n",
        "\n",
        "arr=np.array([1,2,3,4,5])\n",
        "print(arr)\n",
        "print(type(arr))"
      ],
      "metadata": {
        "colab": {
          "base_uri": "https://localhost:8080/"
        },
        "id": "S_D5_lJq3Cm3",
        "outputId": "72514706-cf6b-401b-f177-a2f71f919f06"
      },
      "execution_count": 4,
      "outputs": [
        {
          "output_type": "stream",
          "name": "stdout",
          "text": [
            "[1 2 3 4 5]\n",
            "<class 'numpy.ndarray'>\n"
          ]
        }
      ]
    },
    {
      "cell_type": "code",
      "source": [
        "ls=[1,2,\"B\",4,5] # list accepts different type of data\n",
        "print(ls)\n",
        "print(type(ls))"
      ],
      "metadata": {
        "colab": {
          "base_uri": "https://localhost:8080/"
        },
        "id": "OA89cdIt3ZQr",
        "outputId": "6a199994-4550-4b29-b805-62e9264e96ab"
      },
      "execution_count": 3,
      "outputs": [
        {
          "output_type": "stream",
          "name": "stdout",
          "text": [
            "[1, 2, 'B', 4, 5]\n",
            "<class 'list'>\n"
          ]
        }
      ]
    },
    {
      "cell_type": "code",
      "source": [
        "arr=np.array([1,2,\"B\",4,5]) # if we try to array with different data types,it will convert to same type\n",
        "print(arr)\n",
        "print(type(arr))"
      ],
      "metadata": {
        "colab": {
          "base_uri": "https://localhost:8080/"
        },
        "id": "v_vD1X-l4BtW",
        "outputId": "5e56e156-e13a-47db-e4e1-5982316f1d5b"
      },
      "execution_count": 5,
      "outputs": [
        {
          "output_type": "stream",
          "name": "stdout",
          "text": [
            "['1' '2' 'B' '4' '5']\n",
            "<class 'numpy.ndarray'>\n"
          ]
        }
      ]
    },
    {
      "cell_type": "code",
      "source": [
        "# operations on array\n",
        "a1=np.array([10,20,30])\n",
        "a2=a1*2\n",
        "print(a2)\n",
        "a3=a1/2\n",
        "print(a3)\n",
        "a4=a1+5\n",
        "print(a4)"
      ],
      "metadata": {
        "colab": {
          "base_uri": "https://localhost:8080/"
        },
        "id": "qjBXDfBR433-",
        "outputId": "e5b7b2eb-f3df-47c0-894d-d615f674370b"
      },
      "execution_count": 8,
      "outputs": [
        {
          "output_type": "stream",
          "name": "stdout",
          "text": [
            "[20 40 60]\n",
            "[ 5. 10. 15.]\n",
            "[15 25 35]\n"
          ]
        }
      ]
    },
    {
      "cell_type": "code",
      "source": [
        "# memory consumption\n",
        "import sys\n",
        "ls=[1,2,3]\n",
        "print(sys.getsizeof(ls))\n",
        "\n",
        "a=np.array([1,2,3])\n",
        "print(a.itemsize)\n",
        "print(a.size)\n",
        "print(a.itemsize*a.size)"
      ],
      "metadata": {
        "colab": {
          "base_uri": "https://localhost:8080/"
        },
        "id": "FgSpe0sB6zFk",
        "outputId": "27838c23-68d7-469d-b642-dd57ff6393eb"
      },
      "execution_count": 12,
      "outputs": [
        {
          "output_type": "stream",
          "name": "stdout",
          "text": [
            "88\n",
            "8\n",
            "3\n",
            "24\n"
          ]
        }
      ]
    },
    {
      "cell_type": "code",
      "source": [
        "# creating ndarray\n",
        "a=np.array([10,20,30])\n",
        "print(a)\n",
        "print(type(a))\n",
        "print(a.ndim)"
      ],
      "metadata": {
        "colab": {
          "base_uri": "https://localhost:8080/"
        },
        "id": "y9jqHG4y7vvv",
        "outputId": "ac7227e2-fcf5-4319-e4e9-f2efc88fdb13"
      },
      "execution_count": 14,
      "outputs": [
        {
          "output_type": "stream",
          "name": "stdout",
          "text": [
            "[10 20 30]\n",
            "<class 'numpy.ndarray'>\n",
            "1\n"
          ]
        }
      ]
    },
    {
      "cell_type": "code",
      "source": [
        "a=np.array(10)# 0 dimension array\n",
        "print(a)\n",
        "print(type(a))\n",
        "print(a.ndim)"
      ],
      "metadata": {
        "colab": {
          "base_uri": "https://localhost:8080/"
        },
        "id": "gLC05rUE8S-3",
        "outputId": "98b7efd8-455c-4f50-a118-67a45be210f5"
      },
      "execution_count": 16,
      "outputs": [
        {
          "output_type": "stream",
          "name": "stdout",
          "text": [
            "10\n",
            "<class 'numpy.ndarray'>\n",
            "0\n"
          ]
        }
      ]
    },
    {
      "cell_type": "code",
      "source": [
        "a=np.array([[[10]]]) # based on [] dymension of array\n",
        "print(a)\n",
        "print(type(a))\n",
        "print(a.ndim)"
      ],
      "metadata": {
        "colab": {
          "base_uri": "https://localhost:8080/"
        },
        "id": "Kew_jnfy8hNG",
        "outputId": "ee7b8bd0-d338-469e-fe11-fe53f921f08c"
      },
      "execution_count": 17,
      "outputs": [
        {
          "output_type": "stream",
          "name": "stdout",
          "text": [
            "[[[10]]]\n",
            "<class 'numpy.ndarray'>\n",
            "3\n"
          ]
        }
      ]
    },
    {
      "cell_type": "code",
      "source": [
        "# n dimentsion array\n",
        "n=int(input('enter the dimension'))\n",
        "a=np.array([1,2,3], ndmin=n)\n",
        "print(a)\n",
        "print(a.ndim)\n",
        "print(a.dtype)\n",
        "print(a.itemsize)\n",
        "print(a.min())\n",
        "print(a.max())\n",
        "print(a.sum())\n",
        "print(a.nbytes)"
      ],
      "metadata": {
        "colab": {
          "base_uri": "https://localhost:8080/"
        },
        "id": "8AjCZA1l8tRT",
        "outputId": "e21ee870-d112-4e31-fbe7-de735bb4260f"
      },
      "execution_count": 25,
      "outputs": [
        {
          "output_type": "stream",
          "name": "stdout",
          "text": [
            "enter the dimension6\n",
            "[[[[[[1 2 3]]]]]]\n",
            "6\n",
            "int64\n",
            "8\n",
            "1\n",
            "3\n",
            "6\n",
            "24\n"
          ]
        }
      ]
    },
    {
      "cell_type": "code",
      "source": [
        "# create a nd array with all zero's\n",
        "a=np.zeros((4,3),dtype='int')\n",
        "print(a)\n",
        "print(a.dtype)\n",
        "print(a.ndim)\n",
        "print(a.shape)"
      ],
      "metadata": {
        "colab": {
          "base_uri": "https://localhost:8080/"
        },
        "id": "GoLLD-aC_kXC",
        "outputId": "cfcd645c-e6b8-447a-b198-e1571606fac7"
      },
      "execution_count": 30,
      "outputs": [
        {
          "output_type": "stream",
          "name": "stdout",
          "text": [
            "[[0 0 0]\n",
            " [0 0 0]\n",
            " [0 0 0]\n",
            " [0 0 0]]\n",
            "int64\n",
            "2\n",
            "(4, 3)\n"
          ]
        }
      ]
    },
    {
      "cell_type": "code",
      "source": [
        "# create a nd array with all ones's\n",
        "a=np.ones((4,3),dtype='int')\n",
        "print(a)\n",
        "print(a.dtype)\n",
        "print(a.ndim)\n",
        "print(a.shape)"
      ],
      "metadata": {
        "colab": {
          "base_uri": "https://localhost:8080/"
        },
        "id": "zRQ4glYMAW24",
        "outputId": "768cfd97-1dcd-421b-f430-30865468cf92"
      },
      "execution_count": 31,
      "outputs": [
        {
          "output_type": "stream",
          "name": "stdout",
          "text": [
            "[[1 1 1]\n",
            " [1 1 1]\n",
            " [1 1 1]\n",
            " [1 1 1]]\n",
            "int64\n",
            "2\n",
            "(4, 3)\n"
          ]
        }
      ]
    },
    {
      "cell_type": "code",
      "source": [
        "# create a nd array with all ones's\n",
        "a=np.ones((4,3),dtype='int') *7\n",
        "print(a)\n",
        "print(a.dtype)\n",
        "print(a.ndim)\n",
        "print(a.shape)"
      ],
      "metadata": {
        "colab": {
          "base_uri": "https://localhost:8080/"
        },
        "id": "NKZwl75tAfSL",
        "outputId": "fd15bf3d-b0b2-465f-b66d-c549bcebb6e5"
      },
      "execution_count": 32,
      "outputs": [
        {
          "output_type": "stream",
          "name": "stdout",
          "text": [
            "[[7 7 7]\n",
            " [7 7 7]\n",
            " [7 7 7]\n",
            " [7 7 7]]\n",
            "int64\n",
            "2\n",
            "(4, 3)\n"
          ]
        }
      ]
    },
    {
      "cell_type": "code",
      "source": [
        "# a range function\n",
        "a=np.arange(10)\n",
        "print(a)\n",
        "print(a.dtype)\n",
        "print(a.ndim)\n",
        "print(a.shape)"
      ],
      "metadata": {
        "colab": {
          "base_uri": "https://localhost:8080/"
        },
        "id": "Xnt_ZyEIBHA3",
        "outputId": "5aa16157-cc9d-4c58-be77-8783174bb366"
      },
      "execution_count": 33,
      "outputs": [
        {
          "output_type": "stream",
          "name": "stdout",
          "text": [
            "[0 1 2 3 4 5 6 7 8 9]\n",
            "int64\n",
            "1\n",
            "(10,)\n"
          ]
        }
      ]
    },
    {
      "cell_type": "code",
      "source": [
        "# a range function\n",
        "a=np.arange(2,10,2)\n",
        "print(a)\n",
        "print(a.dtype)\n",
        "print(a.ndim)\n",
        "print(a.shape)"
      ],
      "metadata": {
        "colab": {
          "base_uri": "https://localhost:8080/"
        },
        "id": "OOmnz6MSBV5L",
        "outputId": "6a463132-e85e-4210-9959-6e05701d5c14"
      },
      "execution_count": 34,
      "outputs": [
        {
          "output_type": "stream",
          "name": "stdout",
          "text": [
            "[2 4 6 8]\n",
            "int64\n",
            "1\n",
            "(4,)\n"
          ]
        }
      ]
    },
    {
      "cell_type": "code",
      "source": [
        "# lnspace generate numbers in linear space\n",
        "a=np.linspace(1,10,12)\n",
        "b=a.reshape(4,3)\n",
        "\n",
        "print(a)\n",
        "print(a.dtype)\n",
        "print(a.ndim)\n",
        "print(a.shape)\n",
        "print(b)\n",
        "print(b.dtype)\n",
        "print(b.ndim)\n",
        "print(b.shape)"
      ],
      "metadata": {
        "colab": {
          "base_uri": "https://localhost:8080/"
        },
        "id": "CUZ5ytPSCJ69",
        "outputId": "dc018751-cce0-41a3-b221-c287f1b6e2ab"
      },
      "execution_count": 37,
      "outputs": [
        {
          "output_type": "stream",
          "name": "stdout",
          "text": [
            "[ 1.          1.81818182  2.63636364  3.45454545  4.27272727  5.09090909\n",
            "  5.90909091  6.72727273  7.54545455  8.36363636  9.18181818 10.        ]\n",
            "float64\n",
            "1\n",
            "(12,)\n",
            "[[ 1.          1.81818182  2.63636364]\n",
            " [ 3.45454545  4.27272727  5.09090909]\n",
            " [ 5.90909091  6.72727273  7.54545455]\n",
            " [ 8.36363636  9.18181818 10.        ]]\n",
            "float64\n",
            "2\n",
            "(4, 3)\n"
          ]
        }
      ]
    },
    {
      "cell_type": "code",
      "source": [
        "# matrix\n",
        "mat=np.matrix([[1,2,3],[4,5,6],[7,8,9]])\n",
        "print(mat)\n",
        "print(mat.dtype)\n",
        "print(type(mat))\n",
        "print(mat.ndim)\n",
        "print(mat.shape)\n",
        "trans=mat.T # transpose of matrix\n",
        "print(trans)\n"
      ],
      "metadata": {
        "colab": {
          "base_uri": "https://localhost:8080/"
        },
        "id": "IqQwBHtxDvBf",
        "outputId": "dd861fc3-f1e0-45ea-dd4a-169261ea8701"
      },
      "execution_count": 41,
      "outputs": [
        {
          "output_type": "stream",
          "name": "stdout",
          "text": [
            "[[1 2 3]\n",
            " [4 5 6]\n",
            " [7 8 9]]\n",
            "int64\n",
            "<class 'numpy.matrix'>\n",
            "2\n",
            "(3, 3)\n",
            "[[1 4 7]\n",
            " [2 5 8]\n",
            " [3 6 9]]\n"
          ]
        }
      ]
    },
    {
      "cell_type": "code",
      "source": [
        "a=np.diag([10,20,30])\n",
        "print(a)"
      ],
      "metadata": {
        "colab": {
          "base_uri": "https://localhost:8080/"
        },
        "id": "53DyU78mE2aS",
        "outputId": "587d7d2c-bde0-4eae-ac57-3d8e90b3c819"
      },
      "execution_count": 42,
      "outputs": [
        {
          "output_type": "stream",
          "name": "stdout",
          "text": [
            "[[10  0  0]\n",
            " [ 0 20  0]\n",
            " [ 0  0 30]]\n"
          ]
        }
      ]
    },
    {
      "cell_type": "code",
      "source": [
        "# random numbers\n",
        "a=np.random.random(10) # all numbers generate between 0 and 1\n",
        "print(a)"
      ],
      "metadata": {
        "colab": {
          "base_uri": "https://localhost:8080/"
        },
        "id": "d-koML4BE-eB",
        "outputId": "b5120259-b131-4727-a58c-cc0441574bc0"
      },
      "execution_count": 46,
      "outputs": [
        {
          "output_type": "stream",
          "name": "stdout",
          "text": [
            "[0.72913956 0.24209787 0.01802469 0.43453827 0.71913596 0.06985803\n",
            " 0.1352894  0.65395179 0.75422627 0.75533466]\n"
          ]
        }
      ]
    },
    {
      "cell_type": "code",
      "source": [
        "a=np.random.randint(11,150,5) # all numbers generate between 11 and 150\n",
        "print(a)"
      ],
      "metadata": {
        "colab": {
          "base_uri": "https://localhost:8080/"
        },
        "id": "wo1I1ZOIFo3g",
        "outputId": "0a0d658c-af49-4fb7-8389-762fa4835b70"
      },
      "execution_count": 51,
      "outputs": [
        {
          "output_type": "stream",
          "name": "stdout",
          "text": [
            "[128  32  19  84  18]\n"
          ]
        }
      ]
    },
    {
      "cell_type": "code",
      "source": [
        "# floating numbers\n",
        "r=np.random.uniform(1,10,5) # all numbers generate between 1 and 10\n",
        "print(r)"
      ],
      "metadata": {
        "id": "eCWxMOg9GKa4",
        "outputId": "6f88a1fd-7d24-4b67-c410-645791278943",
        "colab": {
          "base_uri": "https://localhost:8080/"
        }
      },
      "execution_count": 52,
      "outputs": [
        {
          "output_type": "stream",
          "name": "stdout",
          "text": [
            "[8.16649181 5.75897366 3.33144382 4.13929242 3.20316426]\n"
          ]
        }
      ]
    }
  ]
}