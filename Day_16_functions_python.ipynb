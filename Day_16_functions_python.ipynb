{
  "nbformat": 4,
  "nbformat_minor": 0,
  "metadata": {
    "colab": {
      "provenance": []
    },
    "kernelspec": {
      "name": "python3",
      "display_name": "Python 3"
    },
    "language_info": {
      "name": "python"
    }
  },
  "cells": [
    {
      "cell_type": "code",
      "execution_count": null,
      "metadata": {
        "colab": {
          "base_uri": "https://localhost:8080/"
        },
        "id": "LynczderHEfx",
        "outputId": "341612f5-47fa-4176-cb7a-3453d0392be7"
      },
      "outputs": [
        {
          "output_type": "stream",
          "name": "stdout",
          "text": [
            "Hello World\n"
          ]
        }
      ],
      "source": [
        "print(\"Hello World\")"
      ]
    },
    {
      "cell_type": "code",
      "source": [
        "# class variable\n",
        "class Student:\n",
        "  student_count = 0\n",
        "  collegename=\"SNIST\"\n",
        "  def __init__(self,name,age):\n",
        "    self.name=name\n",
        "    self.age=age\n",
        "    Student.student_count+=1\n",
        "    print(Student.student_count)\n",
        "\n",
        "  def dispaly(self):\n",
        "    print(self.name,self.age,Student.student_count)\n",
        "\n",
        "s1=Student(\"Ram\",20)\n",
        "s2=Student(\"kishore\",25)\n",
        "s3=Student(\"akber\",29)\n",
        "\n",
        "s1.dispaly()\n",
        "s2.dispaly()\n",
        "s3.dispaly()\n",
        ""
      ],
      "metadata": {
        "colab": {
          "base_uri": "https://localhost:8080/"
        },
        "id": "Aluw1kfhB5Hq",
        "outputId": "66ccf06a-2e27-49a4-b56e-216de0e27a32"
      },
      "execution_count": 3,
      "outputs": [
        {
          "output_type": "stream",
          "name": "stdout",
          "text": [
            "1\n",
            "2\n",
            "3\n",
            "Ram 20 3\n",
            "kishore 25 3\n",
            "akber 29 3\n"
          ]
        }
      ]
    },
    {
      "cell_type": "code",
      "source": [
        "#class method\n",
        "class Student:\n",
        "  student_count = 0\n",
        "  collegename=\"SNIST\"\n",
        "  def __init__(self,name,age):\n",
        "    self.name=name\n",
        "    self.age=age\n",
        "    Student.student_count+=1\n",
        "    print(Student.student_count)\n",
        "\n",
        "  @classmethod()\n",
        "  def print_college(cls): # Define a method to be used with the classmethod decorator\n",
        "    print(cls.collegename)\n",
        "\n",
        "  def dispaly(self):\n",
        "    print(self.name,self.age,Student.student_count)\n",
        "\n",
        "s1=Student(\"Ram\",20)\n",
        "s2=Student(\"kishore\",25)\n",
        "s3=Student(\"akber\",29)\n",
        "\"\"\"\n",
        "s1.dispaly()\n",
        "s2.dispaly()\n",
        "s3.dispaly()\"\"\"\n",
        ""
      ],
      "metadata": {
        "id": "JTtriIAtHObp"
      },
      "execution_count": null,
      "outputs": []
    }
  ]
}