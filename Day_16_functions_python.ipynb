{
  "nbformat": 4,
  "nbformat_minor": 0,
  "metadata": {
    "colab": {
      "provenance": []
    },
    "kernelspec": {
      "name": "python3",
      "display_name": "Python 3"
    },
    "language_info": {
      "name": "python"
    }
  },
  "cells": [
    {
      "cell_type": "code",
      "execution_count": null,
      "metadata": {
        "colab": {
          "base_uri": "https://localhost:8080/"
        },
        "id": "LynczderHEfx",
        "outputId": "341612f5-47fa-4176-cb7a-3453d0392be7"
      },
      "outputs": [
        {
          "output_type": "stream",
          "name": "stdout",
          "text": [
            "Hello World\n"
          ]
        }
      ],
      "source": [
        "print(\"Hello World\")"
      ]
    },
    {
      "cell_type": "code",
      "source": [
        "# class variable\n",
        "class Student:\n",
        "  student_count = 0\n",
        "  collegename=\"SNIST\"\n",
        "  def __init__(self,name,age):\n",
        "    self.name=name\n",
        "    self.age=age\n",
        "    student.student_count+=1\n",
        "    print(student.student_count)\n",
        "\n",
        "  def dispaly(self):\n",
        "    print(name,age,student.student_count)\n",
        ""
      ],
      "metadata": {
        "id": "Aluw1kfhB5Hq"
      },
      "execution_count": null,
      "outputs": []
    }
  ]
}