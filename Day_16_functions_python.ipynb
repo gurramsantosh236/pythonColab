{
  "nbformat": 4,
  "nbformat_minor": 0,
  "metadata": {
    "colab": {
      "provenance": []
    },
    "kernelspec": {
      "name": "python3",
      "display_name": "Python 3"
    },
    "language_info": {
      "name": "python"
    }
  },
  "cells": [
    {
      "cell_type": "code",
      "execution_count": null,
      "metadata": {
        "colab": {
          "base_uri": "https://localhost:8080/"
        },
        "id": "LynczderHEfx",
        "outputId": "341612f5-47fa-4176-cb7a-3453d0392be7"
      },
      "outputs": [
        {
          "output_type": "stream",
          "name": "stdout",
          "text": [
            "Hello World\n"
          ]
        }
      ],
      "source": [
        "print(\"Hello World\")"
      ]
    },
    {
      "cell_type": "code",
      "source": [
        "# class variable\n",
        "class Student:\n",
        "  student_count = 0\n",
        "  collegename=\"SNIST\"\n",
        "  def __init__(self,name,age):\n",
        "    self.name=name\n",
        "    self.age=age\n",
        "    Student.student_count+=1\n",
        "    print(Student.student_count)\n",
        "\n",
        "  def dispaly(self):\n",
        "    print(self.name,self.age,Student.student_count)\n",
        "\n",
        "s1=Student(\"Ram\",20)\n",
        "s2=Student(\"kishore\",25)\n",
        "s3=Student(\"akber\",29)\n",
        "\n",
        "s1.dispaly()\n",
        "s2.dispaly()\n",
        "s3.dispaly()\n",
        ""
      ],
      "metadata": {
        "colab": {
          "base_uri": "https://localhost:8080/"
        },
        "id": "Aluw1kfhB5Hq",
        "outputId": "66ccf06a-2e27-49a4-b56e-216de0e27a32"
      },
      "execution_count": 3,
      "outputs": [
        {
          "output_type": "stream",
          "name": "stdout",
          "text": [
            "1\n",
            "2\n",
            "3\n",
            "Ram 20 3\n",
            "kishore 25 3\n",
            "akber 29 3\n"
          ]
        }
      ]
    },
    {
      "cell_type": "code",
      "source": [
        "#class method\n",
        "class Student:\n",
        "  student_count = 0\n",
        "  collegename=\"SNIST\"\n",
        "  def __init__(self,name,age):\n",
        "    self.name=name\n",
        "    self.age=age\n",
        "    Student.student_count+=1\n",
        "    print(Student.student_count)\n",
        "\n",
        "@classmethod()\n",
        "  def print_college(cls): # Define a method to be used with the classmethod decorator\n",
        "    print(cls.collegename)\n",
        "\n",
        "  def dispaly(self):\n",
        "    print(self.name,self.age,Student.student_count)\n",
        "\n",
        "s1=Student(\"Ram\",20)\n",
        "s2=Student(\"kishore\",25)\n",
        "s3=Student(\"akber\",29)\n",
        "\"\"\"\n",
        "s1.dispaly()\n",
        "s2.dispaly()\n",
        "s3.dispaly()\"\"\"\n",
        ""
      ],
      "metadata": {
        "colab": {
          "base_uri": "https://localhost:8080/",
          "height": 349
        },
        "id": "JTtriIAtHObp",
        "outputId": "1e9d6be4-5e61-45ce-c47e-eb08778b31c4"
      },
      "execution_count": 4,
      "outputs": [
        {
          "output_type": "error",
          "ename": "TypeError",
          "evalue": "classmethod expected 1 argument, got 0",
          "traceback": [
            "\u001b[0;31m---------------------------------------------------------------------------\u001b[0m",
            "\u001b[0;31mTypeError\u001b[0m                                 Traceback (most recent call last)",
            "\u001b[0;32m<ipython-input-4-1c3488103aa5>\u001b[0m in \u001b[0;36m<cell line: 0>\u001b[0;34m()\u001b[0m\n\u001b[1;32m      1\u001b[0m \u001b[0;31m#class method\u001b[0m\u001b[0;34m\u001b[0m\u001b[0;34m\u001b[0m\u001b[0m\n\u001b[0;32m----> 2\u001b[0;31m \u001b[0;32mclass\u001b[0m \u001b[0mStudent\u001b[0m\u001b[0;34m:\u001b[0m\u001b[0;34m\u001b[0m\u001b[0;34m\u001b[0m\u001b[0m\n\u001b[0m\u001b[1;32m      3\u001b[0m   \u001b[0mstudent_count\u001b[0m \u001b[0;34m=\u001b[0m \u001b[0;36m0\u001b[0m\u001b[0;34m\u001b[0m\u001b[0;34m\u001b[0m\u001b[0m\n\u001b[1;32m      4\u001b[0m   \u001b[0mcollegename\u001b[0m\u001b[0;34m=\u001b[0m\u001b[0;34m\"SNIST\"\u001b[0m\u001b[0;34m\u001b[0m\u001b[0;34m\u001b[0m\u001b[0m\n\u001b[1;32m      5\u001b[0m   \u001b[0;32mdef\u001b[0m \u001b[0m__init__\u001b[0m\u001b[0;34m(\u001b[0m\u001b[0mself\u001b[0m\u001b[0;34m,\u001b[0m\u001b[0mname\u001b[0m\u001b[0;34m,\u001b[0m\u001b[0mage\u001b[0m\u001b[0;34m)\u001b[0m\u001b[0;34m:\u001b[0m\u001b[0;34m\u001b[0m\u001b[0;34m\u001b[0m\u001b[0m\n",
            "\u001b[0;32m<ipython-input-4-1c3488103aa5>\u001b[0m in \u001b[0;36mStudent\u001b[0;34m()\u001b[0m\n\u001b[1;32m      9\u001b[0m     \u001b[0mprint\u001b[0m\u001b[0;34m(\u001b[0m\u001b[0mStudent\u001b[0m\u001b[0;34m.\u001b[0m\u001b[0mstudent_count\u001b[0m\u001b[0;34m)\u001b[0m\u001b[0;34m\u001b[0m\u001b[0;34m\u001b[0m\u001b[0m\n\u001b[1;32m     10\u001b[0m \u001b[0;34m\u001b[0m\u001b[0m\n\u001b[0;32m---> 11\u001b[0;31m   \u001b[0;34m@\u001b[0m\u001b[0mclassmethod\u001b[0m\u001b[0;34m(\u001b[0m\u001b[0;34m)\u001b[0m\u001b[0;34m\u001b[0m\u001b[0;34m\u001b[0m\u001b[0m\n\u001b[0m\u001b[1;32m     12\u001b[0m   \u001b[0;32mdef\u001b[0m \u001b[0mprint_college\u001b[0m\u001b[0;34m(\u001b[0m\u001b[0mcls\u001b[0m\u001b[0;34m)\u001b[0m\u001b[0;34m:\u001b[0m \u001b[0;31m# Define a method to be used with the classmethod decorator\u001b[0m\u001b[0;34m\u001b[0m\u001b[0;34m\u001b[0m\u001b[0m\n\u001b[1;32m     13\u001b[0m     \u001b[0mprint\u001b[0m\u001b[0;34m(\u001b[0m\u001b[0mcls\u001b[0m\u001b[0;34m.\u001b[0m\u001b[0mcollegename\u001b[0m\u001b[0;34m)\u001b[0m\u001b[0;34m\u001b[0m\u001b[0;34m\u001b[0m\u001b[0m\n",
            "\u001b[0;31mTypeError\u001b[0m: classmethod expected 1 argument, got 0"
          ]
        }
      ]
    },
    {
      "cell_type": "code",
      "source": [
        "# Inheritance\n",
        "class Employee:\n",
        "  bonus=2000\n",
        "  def display(self):\n",
        "    print(\"This is the emplayee method\")\n",
        "\n",
        "class Manager(Employee):\n",
        "  bonus1=1000\n",
        "  def show(self):\n",
        "    print(\"This is Manager class\")\n",
        "\n",
        "e1=Employee()\n",
        "e1.display()\n",
        "print(e1.bonus)\n",
        "\n",
        "m1=Manager()\n",
        "m1.show()\n",
        "print(m1.bonus1)\n",
        "print(m1.bonus)\n",
        "\n"
      ],
      "metadata": {
        "colab": {
          "base_uri": "https://localhost:8080/"
        },
        "id": "vDBYPN1EJ7yw",
        "outputId": "bbafd0be-4297-403e-ae6c-e0630405f0cc"
      },
      "execution_count": 7,
      "outputs": [
        {
          "output_type": "stream",
          "name": "stdout",
          "text": [
            "This is the emplayee method\n",
            "2000\n",
            "This is Manager class\n",
            "1000\n",
            "2000\n"
          ]
        }
      ]
    },
    {
      "cell_type": "code",
      "source": [
        "# Constructor in Inheritance\n",
        "class Father:\n",
        "  def __init__(self):\n",
        "    print(\"This is Father class\")\n",
        "    self.money=10000\n",
        "\n",
        "class Son(Father):\n",
        "  pass\n",
        "\n",
        "s=Son()\n",
        "print(s.__dict__)"
      ],
      "metadata": {
        "colab": {
          "base_uri": "https://localhost:8080/"
        },
        "id": "8AiYQl0PLScG",
        "outputId": "791e2454-e037-4c20-efb5-bbe68f77f233"
      },
      "execution_count": 10,
      "outputs": [
        {
          "output_type": "stream",
          "name": "stdout",
          "text": [
            "This is Father class\n",
            "{'money': 10000}\n"
          ]
        }
      ]
    },
    {
      "cell_type": "code",
      "source": [
        "# Constructor in Inheritance\n",
        "class Father:\n",
        "  def __init__(self):\n",
        "    print(\"This is Father class\")\n",
        "    self.vehicle=\"scooter\"\n",
        "\n",
        "class Son(Father):\n",
        "  def __init__(self):\n",
        "    print(\"This is Son class\")\n",
        "    self.vehicle=\"BMW\"\n",
        "\n",
        "s=Son()\n",
        "print(s.__dict__)"
      ],
      "metadata": {
        "colab": {
          "base_uri": "https://localhost:8080/"
        },
        "id": "P9oerSzLMWeK",
        "outputId": "09666893-6e71-4d53-8afc-3e242b0b0198"
      },
      "execution_count": 13,
      "outputs": [
        {
          "output_type": "stream",
          "name": "stdout",
          "text": [
            "This is Son class\n",
            "{'vehicle': 'BMW'}\n"
          ]
        }
      ]
    },
    {
      "cell_type": "code",
      "source": [
        "## Super Method\n",
        "\n",
        "class Computer:\n",
        "  def __init__(self):\n",
        "    print(\"This is Computer class constructor\")\n",
        "    self.process=\"i5\"\n",
        "    self.ram=\"8GB\"\n",
        "\n",
        "class Mobile(Computer):\n",
        "   def __init__(self):\n",
        "    super().__init__()\n",
        "    self.model=\"iphone\"\n",
        "    print(\"This is mobile class\")\n",
        "\n",
        "m=Mobile()\n",
        "print(m.__dict__)\n"
      ],
      "metadata": {
        "id": "0NTHFsCvNGUx",
        "outputId": "c365a870-d650-45be-e79c-5f791b331765",
        "colab": {
          "base_uri": "https://localhost:8080/"
        }
      },
      "execution_count": 15,
      "outputs": [
        {
          "output_type": "stream",
          "name": "stdout",
          "text": [
            "This is Computer class constructor\n",
            "This is mobile class\n",
            "{'process': 'i5', 'ram': '8GB', 'model': 'iphone'}\n"
          ]
        }
      ]
    }
  ]
}