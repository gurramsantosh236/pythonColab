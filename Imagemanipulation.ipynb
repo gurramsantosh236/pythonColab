
import mysql.connector
from tabulate import tabulate
 
conn = mysql.connector.connect(host = 'localhost', user = 'root', password = 'MySqlMasterPassword@123', database = 'python_db')
 
if conn:
    print("Connected!")
else:
    print("Connection Error")
 
def insert(name, age, city):
    res = conn.cursor()
    sql = "insert into users(name,age,city) values(%s,%s,%s)"
    user = (name, age, city)
    res.execute(sql,user)
    conn.commit()
    print("Row inserted successfully!")
 
def display():
    res = conn.cursor()
    sql = "select ID, Name, Age, City from users"
    res.execute(sql)
    result = res.fetchall()
    print(tabulate(result,headers=["ID", "NAME", "AGE","CITY"]))
 
def delete(id):
    res = conn.cursor()
    sql = "delete from users where ID = %s"
    user = (id,)
    res.execute(sql,user)
    conn.commit()
    print("Row deleted successfully!")
 
def update(name, age, city, id):
    res = conn.cursor()
    sql = "update users set name = %s, age = %s, city = %s where id = %s"
    user = (name, age, city, id)
    res.execute(sql,user)
    conn.commit
    print("Row updated successfully!")
 
while True:
    print("1. Insert, 2. Delete, 3. Display, 4. Update, 5. Exit")
    choice = int(input("Enter your choice : "))
    if choice == 1:
        name = input("Enter Name : ")
        age = input("Enter Age : ")
        city = input("Enter City : ")
        insert(name, age, city)
   
    elif choice == 2:
        id = input("enter the ID to delete : ")
        delete(id)
 
    elif choice == 3:
        display()
 
    elif choice == 4:
        name = input("Enter Name : ")
        age = input("Enter Age : ")
        city = input("Enter City : ")
        id = input("Enter ID to update : ")
        update(name, age, city, id)
 
    elif choice == 5:
        break
 
 
