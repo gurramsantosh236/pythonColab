{
  "nbformat": 4,
  "nbformat_minor": 0,
  "metadata": {
    "colab": {
      "provenance": [],
      "include_colab_link": true
    },
    "kernelspec": {
      "name": "python3",
      "display_name": "Python 3"
    },
    "language_info": {
      "name": "python"
    }
  },
  "cells": [
    {
      "cell_type": "markdown",
      "metadata": {
        "id": "view-in-github",
        "colab_type": "text"
      },
      "source": [
        "<a href=\"https://colab.research.google.com/github/gurramsantosh236/pythonColab/blob/main/Day_16_17_18_functions_python.ipynb\" target=\"_parent\"><img src=\"https://colab.research.google.com/assets/colab-badge.svg\" alt=\"Open In Colab\"/></a>"
      ]
    },
    {
      "cell_type": "code",
      "execution_count": null,
      "metadata": {
        "colab": {
          "base_uri": "https://localhost:8080/"
        },
        "id": "LynczderHEfx",
        "outputId": "341612f5-47fa-4176-cb7a-3453d0392be7"
      },
      "outputs": [
        {
          "output_type": "stream",
          "name": "stdout",
          "text": [
            "Hello World\n"
          ]
        }
      ],
      "source": [
        "print(\"Hello World\")"
      ]
    },
    {
      "cell_type": "code",
      "source": [
        "# class variable\n",
        "class Student:\n",
        "  student_count = 0\n",
        "  collegename=\"SNIST\"\n",
        "  def __init__(self,name,age):\n",
        "    self.name=name\n",
        "    self.age=age\n",
        "    Student.student_count+=1\n",
        "    print(Student.student_count)\n",
        "\n",
        "  def dispaly(self):\n",
        "    print(self.name,self.age,Student.student_count)\n",
        "\n",
        "s1=Student(\"Ram\",20)\n",
        "s2=Student(\"kishore\",25)\n",
        "s3=Student(\"akber\",29)\n",
        "\n",
        "s1.dispaly()\n",
        "s2.dispaly()\n",
        "s3.dispaly()\n"
      ],
      "metadata": {
        "colab": {
          "base_uri": "https://localhost:8080/"
        },
        "id": "Aluw1kfhB5Hq",
        "outputId": "66ccf06a-2e27-49a4-b56e-216de0e27a32"
      },
      "execution_count": null,
      "outputs": [
        {
          "output_type": "stream",
          "name": "stdout",
          "text": [
            "1\n",
            "2\n",
            "3\n",
            "Ram 20 3\n",
            "kishore 25 3\n",
            "akber 29 3\n"
          ]
        }
      ]
    },
    {
      "cell_type": "code",
      "source": [
        "#class method\n",
        "class Student:\n",
        "  student_count = 0\n",
        "  collegename=\"SNIST\"\n",
        "  def __init__(self,name,age):\n",
        "    self.name=name\n",
        "    self.age=age\n",
        "    Student.student_count+=1\n",
        "    print(Student.student_count)\n",
        "\n",
        "@classmethod()\n",
        "  def print_college(cls): # Define a method to be used with the classmethod decorator\n",
        "    print(cls.collegename)\n",
        "\n",
        "  def dispaly(self):\n",
        "    print(self.name,self.age,Student.student_count)\n",
        "\n",
        "s1=Student(\"Ram\",20)\n",
        "s2=Student(\"kishore\",25)\n",
        "s3=Student(\"akber\",29)\n",
        "\"\"\"\n",
        "s1.dispaly()\n",
        "s2.dispaly()\n",
        "s3.dispaly()\"\"\"\n"
      ],
      "metadata": {
        "colab": {
          "base_uri": "https://localhost:8080/",
          "height": 349
        },
        "id": "JTtriIAtHObp",
        "outputId": "1e9d6be4-5e61-45ce-c47e-eb08778b31c4"
      },
      "execution_count": null,
      "outputs": [
        {
          "output_type": "error",
          "ename": "TypeError",
          "evalue": "classmethod expected 1 argument, got 0",
          "traceback": [
            "\u001b[0;31m---------------------------------------------------------------------------\u001b[0m",
            "\u001b[0;31mTypeError\u001b[0m                                 Traceback (most recent call last)",
            "\u001b[0;32m<ipython-input-4-1c3488103aa5>\u001b[0m in \u001b[0;36m<cell line: 0>\u001b[0;34m()\u001b[0m\n\u001b[1;32m      1\u001b[0m \u001b[0;31m#class method\u001b[0m\u001b[0;34m\u001b[0m\u001b[0;34m\u001b[0m\u001b[0m\n\u001b[0;32m----> 2\u001b[0;31m \u001b[0;32mclass\u001b[0m \u001b[0mStudent\u001b[0m\u001b[0;34m:\u001b[0m\u001b[0;34m\u001b[0m\u001b[0;34m\u001b[0m\u001b[0m\n\u001b[0m\u001b[1;32m      3\u001b[0m   \u001b[0mstudent_count\u001b[0m \u001b[0;34m=\u001b[0m \u001b[0;36m0\u001b[0m\u001b[0;34m\u001b[0m\u001b[0;34m\u001b[0m\u001b[0m\n\u001b[1;32m      4\u001b[0m   \u001b[0mcollegename\u001b[0m\u001b[0;34m=\u001b[0m\u001b[0;34m\"SNIST\"\u001b[0m\u001b[0;34m\u001b[0m\u001b[0;34m\u001b[0m\u001b[0m\n\u001b[1;32m      5\u001b[0m   \u001b[0;32mdef\u001b[0m \u001b[0m__init__\u001b[0m\u001b[0;34m(\u001b[0m\u001b[0mself\u001b[0m\u001b[0;34m,\u001b[0m\u001b[0mname\u001b[0m\u001b[0;34m,\u001b[0m\u001b[0mage\u001b[0m\u001b[0;34m)\u001b[0m\u001b[0;34m:\u001b[0m\u001b[0;34m\u001b[0m\u001b[0;34m\u001b[0m\u001b[0m\n",
            "\u001b[0;32m<ipython-input-4-1c3488103aa5>\u001b[0m in \u001b[0;36mStudent\u001b[0;34m()\u001b[0m\n\u001b[1;32m      9\u001b[0m     \u001b[0mprint\u001b[0m\u001b[0;34m(\u001b[0m\u001b[0mStudent\u001b[0m\u001b[0;34m.\u001b[0m\u001b[0mstudent_count\u001b[0m\u001b[0;34m)\u001b[0m\u001b[0;34m\u001b[0m\u001b[0;34m\u001b[0m\u001b[0m\n\u001b[1;32m     10\u001b[0m \u001b[0;34m\u001b[0m\u001b[0m\n\u001b[0;32m---> 11\u001b[0;31m   \u001b[0;34m@\u001b[0m\u001b[0mclassmethod\u001b[0m\u001b[0;34m(\u001b[0m\u001b[0;34m)\u001b[0m\u001b[0;34m\u001b[0m\u001b[0;34m\u001b[0m\u001b[0m\n\u001b[0m\u001b[1;32m     12\u001b[0m   \u001b[0;32mdef\u001b[0m \u001b[0mprint_college\u001b[0m\u001b[0;34m(\u001b[0m\u001b[0mcls\u001b[0m\u001b[0;34m)\u001b[0m\u001b[0;34m:\u001b[0m \u001b[0;31m# Define a method to be used with the classmethod decorator\u001b[0m\u001b[0;34m\u001b[0m\u001b[0;34m\u001b[0m\u001b[0m\n\u001b[1;32m     13\u001b[0m     \u001b[0mprint\u001b[0m\u001b[0;34m(\u001b[0m\u001b[0mcls\u001b[0m\u001b[0;34m.\u001b[0m\u001b[0mcollegename\u001b[0m\u001b[0;34m)\u001b[0m\u001b[0;34m\u001b[0m\u001b[0;34m\u001b[0m\u001b[0m\n",
            "\u001b[0;31mTypeError\u001b[0m: classmethod expected 1 argument, got 0"
          ]
        }
      ]
    },
    {
      "cell_type": "code",
      "source": [
        "# Inheritance\n",
        "class Employee:\n",
        "  bonus=2000\n",
        "  def display(self):\n",
        "    print(\"This is the emplayee method\")\n",
        "\n",
        "class Manager(Employee):\n",
        "  bonus1=1000\n",
        "  def show(self):\n",
        "    print(\"This is Manager class\")\n",
        "\n",
        "e1=Employee()\n",
        "e1.display()\n",
        "print(e1.bonus)\n",
        "\n",
        "m1=Manager()\n",
        "m1.show()\n",
        "print(m1.bonus1)\n",
        "print(m1.bonus)\n",
        "\n"
      ],
      "metadata": {
        "colab": {
          "base_uri": "https://localhost:8080/"
        },
        "id": "vDBYPN1EJ7yw",
        "outputId": "bbafd0be-4297-403e-ae6c-e0630405f0cc"
      },
      "execution_count": null,
      "outputs": [
        {
          "output_type": "stream",
          "name": "stdout",
          "text": [
            "This is the emplayee method\n",
            "2000\n",
            "This is Manager class\n",
            "1000\n",
            "2000\n"
          ]
        }
      ]
    },
    {
      "cell_type": "code",
      "source": [
        "# Constructor in Inheritance\n",
        "class Father:\n",
        "  def __init__(self):\n",
        "    print(\"This is Father class\")\n",
        "    self.money=10000\n",
        "\n",
        "class Son(Father):\n",
        "  pass\n",
        "\n",
        "s=Son()\n",
        "print(s.__dict__)"
      ],
      "metadata": {
        "colab": {
          "base_uri": "https://localhost:8080/"
        },
        "id": "8AiYQl0PLScG",
        "outputId": "791e2454-e037-4c20-efb5-bbe68f77f233"
      },
      "execution_count": null,
      "outputs": [
        {
          "output_type": "stream",
          "name": "stdout",
          "text": [
            "This is Father class\n",
            "{'money': 10000}\n"
          ]
        }
      ]
    },
    {
      "cell_type": "code",
      "source": [
        "# Constructor in Inheritance\n",
        "class Father:\n",
        "  def __init__(self):\n",
        "    print(\"This is Father class\")\n",
        "    self.vehicle=\"scooter\"\n",
        "\n",
        "class Son(Father):\n",
        "  def __init__(self):\n",
        "    print(\"This is Son class\")\n",
        "    self.vehicle=\"BMW\"\n",
        "\n",
        "s=Son()\n",
        "print(s.__dict__)"
      ],
      "metadata": {
        "colab": {
          "base_uri": "https://localhost:8080/"
        },
        "id": "P9oerSzLMWeK",
        "outputId": "09666893-6e71-4d53-8afc-3e242b0b0198"
      },
      "execution_count": null,
      "outputs": [
        {
          "output_type": "stream",
          "name": "stdout",
          "text": [
            "This is Son class\n",
            "{'vehicle': 'BMW'}\n"
          ]
        }
      ]
    },
    {
      "cell_type": "code",
      "source": [
        "## Super Method\n",
        "\n",
        "class Computer:\n",
        "  def __init__(self):\n",
        "    print(\"This is Computer class constructor\")\n",
        "    self.process=\"i5\"\n",
        "    self.ram=\"8GB\"\n",
        "\n",
        "class Mobile(Computer):\n",
        "   def __init__(self):\n",
        "    super().__init__()\n",
        "    self.model=\"iphone\"\n",
        "    print(\"This is mobile class\")\n",
        "\n",
        "m=Mobile()\n",
        "print(m.__dict__)\n"
      ],
      "metadata": {
        "id": "0NTHFsCvNGUx",
        "outputId": "c365a870-d650-45be-e79c-5f791b331765",
        "colab": {
          "base_uri": "https://localhost:8080/"
        }
      },
      "execution_count": null,
      "outputs": [
        {
          "output_type": "stream",
          "name": "stdout",
          "text": [
            "This is Computer class constructor\n",
            "This is mobile class\n",
            "{'process': 'i5', 'ram': '8GB', 'model': 'iphone'}\n"
          ]
        }
      ]
    },
    {
      "cell_type": "code",
      "source": [
        "#  parent class constructors are parameterised\n",
        "\n",
        "class Computer:\n",
        "  def __init__(self,pro,ramvalue):\n",
        "    print(\"This is Computer class constructor\")\n",
        "    self.process=pro\n",
        "    self.ram=ramvalue\n",
        "\n",
        "class Mobile(Computer):\n",
        "   def __init__(self,pro,ramvalue):\n",
        "    super().__init__(pro,ramvalue)\n",
        "    self.model=\"iphone\"\n",
        "    print(\"This is mobile class\")\n",
        "\n",
        "m=Mobile(\"8GB\",\"i7\")\n",
        "print(m.__dict__)"
      ],
      "metadata": {
        "id": "XfEkm8fEqH4_",
        "outputId": "7663bd7f-281a-4871-ca52-980e61b2646b",
        "colab": {
          "base_uri": "https://localhost:8080/"
        }
      },
      "execution_count": null,
      "outputs": [
        {
          "output_type": "stream",
          "name": "stdout",
          "text": [
            "This is Computer class constructor\n",
            "This is mobile class\n",
            "{'process': '8GB', 'ram': 'i7', 'model': 'iphone'}\n"
          ]
        }
      ]
    },
    {
      "cell_type": "code",
      "source": [
        "#  Both child and parent class constructors are parameterised\n",
        "\n",
        "class Computer:\n",
        "  def __init__(self,pro,ramvalue):\n",
        "    print(\"This is Computer class constructor\")\n",
        "    self.process=pro\n",
        "    self.ram=ramvalue\n",
        "\n",
        "class Mobile(Computer):\n",
        "   def __init__(self,pro,ramvalue,dummy):\n",
        "    super().__init__(pro,ramvalue)\n",
        "    self.model=\"iphone\"\n",
        "    self.dummy=dummy\n",
        "    print(\"This is mobile class\")\n",
        "\n",
        "m=Mobile(\"8GB\",\"i7\",\"dummy\")\n",
        "print(m.__dict__)"
      ],
      "metadata": {
        "id": "QAT_Kbruq88U",
        "outputId": "18bfc529-5063-4b20-fcad-86ed4abb583b",
        "colab": {
          "base_uri": "https://localhost:8080/"
        }
      },
      "execution_count": null,
      "outputs": [
        {
          "output_type": "stream",
          "name": "stdout",
          "text": [
            "This is Computer class constructor\n",
            "This is mobile class\n",
            "{'process': '8GB', 'ram': 'i7', 'model': 'iphone', 'dummy': 'dummy'}\n"
          ]
        }
      ]
    },
    {
      "cell_type": "code",
      "source": [
        "# class varibale inheritance\n",
        "\n",
        "# Parent class with a class variable\n",
        "class Parent:\n",
        "  parent_class_variable = \"I am a parent class variable\"\n",
        "\n",
        "  def __init__(self, name):\n",
        "    self.name = name\n",
        "\n",
        "  def display_parent_variable(self):\n",
        "    print(f\"From Parent instance {self.name}: {Parent.parent_class_variable}\")\n",
        "\n",
        "# Child class inheriting from Parent\n",
        "class Child(Parent):\n",
        "  child_class_variable = \"I am a child class variable\"\n",
        "\n",
        "  def __init__(self, name, age):\n",
        "    super().__init__(name) # Initialize the parent class\n",
        "    self.age = age\n",
        "\n",
        "  def display_variables(self):\n",
        "    print(f\"From Child instance {self.name}:\")\n",
        "    print(f\"  Parent class variable: {self.parent_class_variable}\") # Accessing inherited class variable\n",
        "    print(f\"  Child class variable: {self.child_class_variable}\") # Accessing child class variable\n",
        "\n",
        "# Create an instance of the Child class\n",
        "child_instance = Child(\"Alice\", 10)\n",
        "\n",
        "# Access and display the inherited class variable\n",
        "print(\"Accessing class variables:\")\n",
        "print(f\"From Parent class: {Parent.parent_class_variable}\")\n",
        "print(f\"From Child class (accessing inherited): {Child.parent_class_variable}\")\n",
        "print(f\"From Child instance (accessing inherited): {child_instance.parent_class_variable}\")\n",
        "print(f\"From Child class: {Child.child_class_variable}\")\n",
        "\n",
        "# Use the method to display the variables\n",
        "child_instance.display_variables()\n",
        "\n",
        "# Create a Parent instance to show the difference\n",
        "parent_instance = Parent(\"Bob\")\n",
        "parent_instance.display_parent_variable()\n",
        "# print(parent_instance.child_class_variable) # This would cause an error"
      ],
      "metadata": {
        "colab": {
          "base_uri": "https://localhost:8080/"
        },
        "id": "0LgJz5HdtDFL",
        "outputId": "7a7567ef-3c86-4c70-df03-577f0c7d5af1"
      },
      "execution_count": null,
      "outputs": [
        {
          "output_type": "stream",
          "name": "stdout",
          "text": [
            "Accessing class variables:\n",
            "From Parent class: I am a parent class variable\n",
            "From Child class (accessing inherited): I am a parent class variable\n",
            "From Child instance (accessing inherited): I am a parent class variable\n",
            "From Child class: I am a child class variable\n",
            "From Child instance Alice:\n",
            "  Parent class variable: I am a parent class variable\n",
            "  Child class variable: I am a child class variable\n",
            "From Parent instance Bob: I am a parent class variable\n"
          ]
        }
      ]
    },
    {
      "cell_type": "code",
      "source": [
        "# Multilevel Inheritance\n",
        "class GrandFather:\n",
        "  grand_attribute=\"This is GrandFather class\"\n",
        "  def __init__(self):\n",
        "    print(self.grand_attribute)\n",
        "class Father(GrandFather):\n",
        "  Father_attribute=\"This is Father class\"\n",
        "  def __init__(self):\n",
        "    super().__init__()\n",
        "    print(self.Father_attribute)\n",
        "class Child(Father):\n",
        "  def __init__(self):\n",
        "    super().__init__()\n",
        "    self.bonus=1000\n",
        "    print(\"This is Child class\")\n",
        "child1=Child()\n",
        "child1.grand_attribute\n",
        "child1.Father_attribute\n",
        "child1.bonus"
      ],
      "metadata": {
        "colab": {
          "base_uri": "https://localhost:8080/"
        },
        "id": "FT-ZupqKui84",
        "outputId": "1d23ecf1-f43d-4a56-8a16-7139df585fce"
      },
      "execution_count": null,
      "outputs": [
        {
          "output_type": "stream",
          "name": "stdout",
          "text": [
            "This is GrandFather class\n",
            "This is Father class\n",
            "This is Child class\n"
          ]
        },
        {
          "output_type": "execute_result",
          "data": {
            "text/plain": [
              "1000"
            ]
          },
          "metadata": {},
          "execution_count": 2
        }
      ]
    },
    {
      "cell_type": "code",
      "source": [
        "# Multilevel Inheritance\n",
        "class Human():\n",
        "\n",
        "  def __init__(self,name1):\n",
        "    print(\"Human class constructor\")\n",
        "    self.name=name1\n",
        "\n",
        "class Emp(Human):\n",
        "\n",
        "  def __init__(self,name1,name2):\n",
        "    super().__init__(name1)\n",
        "    print(\"Emp class constructor\")\n",
        "    self.lastname =name2\n",
        "\n",
        "\n",
        "class Manager(Emp):\n",
        "\n",
        "  def __init__(self,name1,name2,name3):\n",
        "    super().__init__(name1,name2)\n",
        "    print(\"Mnager class constructor\")\n",
        "    self.city= name3\n",
        "\n",
        "\n",
        "m1 = Manager(\"santosh\",\"kumar\",\"Hyderabad\")\n",
        "\n",
        "print(m1.__dict__)\n"
      ],
      "metadata": {
        "colab": {
          "base_uri": "https://localhost:8080/"
        },
        "id": "itAcRUdDz9lF",
        "outputId": "442b9f3c-3e9c-46c5-ed3e-613da6852506"
      },
      "execution_count": null,
      "outputs": [
        {
          "output_type": "stream",
          "name": "stdout",
          "text": [
            "Human class constructor\n",
            "Emp class constructor\n",
            "Mnager class constructor\n",
            "{'name': 'santosh', 'lastname': 'kumar', 'city': 'Hyderabad'}\n"
          ]
        }
      ]
    },
    {
      "cell_type": "code",
      "source": [
        "# Hierarchical Inheritance\n",
        "\n",
        "class Parent:\n",
        "  def __init__(self,name,age):\n",
        "    print(\"This is Parent class\")\n",
        "    self.Parent=name\n",
        "    self.age=age\n",
        "\n",
        "class student(Parent):\n",
        "    def __init__(self,name,age,student_id):\n",
        "      super().__init__(name,age)\n",
        "      print(\"This is student class\")\n",
        "      self.studentID=student_id\n",
        "\n",
        "class emplayee(Parent):\n",
        "    def __init__(self,name,age,Emp_ID):\n",
        "      super().__init__(name,age)\n",
        "      print(\"This is employee class\")\n",
        "      self.EmpID=Emp_ID\n",
        "\n",
        "S1=student(\"Santosh\",26,19876)\n",
        "print(S1.__dict__)\n",
        "E1=emplayee(\"kumar\",46,4565)\n",
        "print(E1.__dict__)"
      ],
      "metadata": {
        "colab": {
          "base_uri": "https://localhost:8080/"
        },
        "id": "Mu0o42PD1USF",
        "outputId": "3133926a-940c-41ef-cb1b-1232e3fabd22"
      },
      "execution_count": null,
      "outputs": [
        {
          "output_type": "stream",
          "name": "stdout",
          "text": [
            "This is Parent class\n",
            "This is student class\n",
            "{'Parent': 'Santosh', 'age': 26, 'studentID': 19876}\n",
            "This is Parent class\n",
            "This is employee class\n",
            "{'Parent': 'kumar', 'age': 46, 'EmpID': 4565}\n"
          ]
        }
      ]
    },
    {
      "cell_type": "code",
      "source": [
        "# Multiple Inheritance\n",
        "\n",
        "class Country:\n",
        "  office=\"Delhi\"\n",
        "class State:\n",
        "  office=\"Chennai\"\n",
        "class Disctrict(Country,State):\n",
        "  pass\n",
        "class Village(State,Country):\n",
        "  pass\n",
        "\n",
        "d1=Disctrict()\n",
        "v1=Village()\n",
        "print(d1.office)\n",
        "print(v1.office)"
      ],
      "metadata": {
        "colab": {
          "base_uri": "https://localhost:8080/"
        },
        "id": "FJGd8AdC47zP",
        "outputId": "4794237d-c03c-4fa7-8b94-f716c1bd0ef2"
      },
      "execution_count": null,
      "outputs": [
        {
          "output_type": "stream",
          "name": "stdout",
          "text": [
            "Delhi\n",
            "Chennai\n"
          ]
        }
      ]
    },
    {
      "cell_type": "code",
      "source": [
        "# Multiple Inheritance with constructor\n",
        "\n",
        "class Country:\n",
        "  def __init__(self):\n",
        "    self.office=\"Delhi\"\n",
        "    print(\"This is Country class:\",self.office)\n",
        "\n",
        "class State:\n",
        "  def __init__(self):\n",
        "    self.office=\"Chennai\"\n",
        "    print(\"This is State class:\",self.office)\n",
        "\n",
        "class District(Country,State):\n",
        "  def __init__(self):\n",
        "    super().__init__()\n",
        "    self.bonus=1000\n",
        "    print(\"This is District class\")\n",
        "    print(\"------------------\")\n",
        "\n",
        "class Village(State,Country):\n",
        "  def __init__(self):\n",
        "    super().__init__()\n",
        "    print(f\"This is Village class:{self.office}\")\n",
        "    print(\"------------------\")\n",
        "\n",
        "\n",
        "d1=District()\n",
        "v1=Village()\n",
        "print(d1.__dict__)\n",
        "print(v1.__dict__)"
      ],
      "metadata": {
        "colab": {
          "base_uri": "https://localhost:8080/"
        },
        "id": "p56xdiZ_5yCe",
        "outputId": "dea22990-22b6-44fc-f460-872057ff1993"
      },
      "execution_count": null,
      "outputs": [
        {
          "output_type": "stream",
          "name": "stdout",
          "text": [
            "This is Country class: Delhi\n",
            "This is District class\n",
            "------------------\n",
            "This is State class: Chennai\n",
            "This is Village class:Chennai\n",
            "------------------\n",
            "{'office': 'Delhi', 'bonus': 1000}\n",
            "{'office': 'Chennai'}\n"
          ]
        }
      ]
    },
    {
      "cell_type": "code",
      "source": [
        "#MRO\n",
        "class A:\n",
        "  pass\n",
        "class B:\n",
        "  pass\n",
        "class C:\n",
        "  pass\n",
        "class X(A,B):\n",
        "  pass\n",
        "class Y(B,C):\n",
        "  pass\n",
        "class P(X,Y,C):\n",
        "  pass\n",
        "print(P.mro())\n"
      ],
      "metadata": {
        "colab": {
          "base_uri": "https://localhost:8080/"
        },
        "id": "6UGH3vi1IydW",
        "outputId": "0bb8abc7-d416-410a-ee74-0afff71cde68"
      },
      "execution_count": null,
      "outputs": [
        {
          "output_type": "stream",
          "name": "stdout",
          "text": [
            "[<class '__main__.P'>, <class '__main__.X'>, <class '__main__.A'>, <class '__main__.Y'>, <class '__main__.B'>, <class '__main__.C'>, <class 'object'>]\n"
          ]
        }
      ]
    },
    {
      "cell_type": "code",
      "source": [
        "# Encapsulation\n",
        "# by default a variable and method are public\n",
        "# private is defined a  __variable,__method name\n",
        "# protected is defined as _variable,_method name can access to 1 level\n",
        "class FuncionA:\n",
        "  def __init__(self):\n",
        "    self.salary=1000\n",
        "    self.__revenue=20000\n",
        "a=FuncionA()\n",
        "print(a.__dict__)\n",
        "\n",
        "class FunctionB:\n",
        "  def __init__(self):\n",
        "    self.Bonus=1000\n",
        "    a.revenue=50000\n",
        "b=FunctionB()\n",
        "print(b.__dict__)\n",
        "print(a.__dict__)"
      ],
      "metadata": {
        "colab": {
          "base_uri": "https://localhost:8080/"
        },
        "id": "APLX857DLT0W",
        "outputId": "560d5773-7e5d-43ae-ee49-2c348a21f921"
      },
      "execution_count": null,
      "outputs": [
        {
          "output_type": "stream",
          "name": "stdout",
          "text": [
            "{'salary': 1000, '_FuncionA__revenue': 20000}\n",
            "{'Bonus': 1000}\n",
            "{'salary': 1000, '_FuncionA__revenue': 20000, 'revenue': 50000}\n"
          ]
        }
      ]
    },
    {
      "cell_type": "code",
      "source": [
        "# Polymorphisam (Method overloading and operator overloading)\n",
        "class Vehicle:\n",
        "  def __init__(self ,name , color,price):\n",
        "    self.name = name\n",
        "    self.color= color\n",
        "    self.price = price\n",
        "\n",
        "  def get_details(self):\n",
        "    print(self.name)\n",
        "    print(self.color)\n",
        "    print(self.price)\n",
        "\n",
        "  def max_speed(self):\n",
        "    print(\"max speed is 100\")\n",
        "\n",
        "  def gear(self):\n",
        "    print(\"6 gears\")\n",
        "\n",
        "\n",
        "class Car(Vehicle):\n",
        "  def max_speed(self):\n",
        "    print(\"max speed is 150\")\n",
        "\n",
        "  def gear(self):\n",
        "    print(\"7 gears\")\n",
        "\n",
        "v1 = Vehicle(\"Truck\",\"red\",200000)\n",
        "c1 = Car(\"car\",\"white\",3333333)\n",
        "v1.get_details()\n",
        "c1.get_details()\n",
        "\n",
        "v1.max_speed()\n",
        "c1.max_speed()\n",
        "\n",
        "\n"
      ],
      "metadata": {
        "id": "g5-kMR0ZUD0o",
        "colab": {
          "base_uri": "https://localhost:8080/"
        },
        "outputId": "0e917fa7-1b7f-4d52-8cbd-1732f0dbb184"
      },
      "execution_count": 1,
      "outputs": [
        {
          "output_type": "stream",
          "name": "stdout",
          "text": [
            "Truck\n",
            "red\n",
            "200000\n",
            "car\n",
            "white\n",
            "3333333\n",
            "max speed is 100\n",
            "max speed is 150\n"
          ]
        }
      ]
    },
    {
      "cell_type": "code",
      "source": [
        "# Method overloading\n",
        "\n",
        "class BMW:\n",
        "  def speed(self):\n",
        "    print(\"BMW car speed is 150\")\n",
        "\n",
        "class Ferrari:\n",
        "  def speed(self):\n",
        "    print(\"Ferrari car speed is 200\")\n",
        "\n",
        "class Carspeed:\n",
        "  def speed(self):\n",
        "    print(\"Audi car speed is 250\")"
      ],
      "metadata": {
        "id": "0GSGARwPcRIm"
      },
      "execution_count": null,
      "outputs": []
    },
    {
      "cell_type": "code",
      "source": [
        "# operator Overloading\n",
        "n1=10\n",
        "n2=20\n",
        "print(n1+n2)\n",
        "print(n1.__add__(n2))\n",
        "print(dir(int))\n",
        "s1=\"Hello\"\n",
        "s2=\"World\"\n",
        "print(s1+s2)\n",
        "print(s1.__add__(s2))\n",
        "print(dir(str))"
      ],
      "metadata": {
        "colab": {
          "base_uri": "https://localhost:8080/"
        },
        "id": "CeQI87VldlkO",
        "outputId": "09a6727d-68ee-43af-fa47-847b2bc2839c"
      },
      "execution_count": 5,
      "outputs": [
        {
          "output_type": "stream",
          "name": "stdout",
          "text": [
            "30\n",
            "30\n",
            "['__abs__', '__add__', '__and__', '__bool__', '__ceil__', '__class__', '__delattr__', '__dir__', '__divmod__', '__doc__', '__eq__', '__float__', '__floor__', '__floordiv__', '__format__', '__ge__', '__getattribute__', '__getnewargs__', '__getstate__', '__gt__', '__hash__', '__index__', '__init__', '__init_subclass__', '__int__', '__invert__', '__le__', '__lshift__', '__lt__', '__mod__', '__mul__', '__ne__', '__neg__', '__new__', '__or__', '__pos__', '__pow__', '__radd__', '__rand__', '__rdivmod__', '__reduce__', '__reduce_ex__', '__repr__', '__rfloordiv__', '__rlshift__', '__rmod__', '__rmul__', '__ror__', '__round__', '__rpow__', '__rrshift__', '__rshift__', '__rsub__', '__rtruediv__', '__rxor__', '__setattr__', '__sizeof__', '__str__', '__sub__', '__subclasshook__', '__truediv__', '__trunc__', '__xor__', 'as_integer_ratio', 'bit_count', 'bit_length', 'conjugate', 'denominator', 'from_bytes', 'imag', 'numerator', 'real', 'to_bytes']\n",
            "HelloWorld\n",
            "HelloWorld\n",
            "['__add__', '__class__', '__contains__', '__delattr__', '__dir__', '__doc__', '__eq__', '__format__', '__ge__', '__getattribute__', '__getitem__', '__getnewargs__', '__getstate__', '__gt__', '__hash__', '__init__', '__init_subclass__', '__iter__', '__le__', '__len__', '__lt__', '__mod__', '__mul__', '__ne__', '__new__', '__reduce__', '__reduce_ex__', '__repr__', '__rmod__', '__rmul__', '__setattr__', '__sizeof__', '__str__', '__subclasshook__', 'capitalize', 'casefold', 'center', 'count', 'encode', 'endswith', 'expandtabs', 'find', 'format', 'format_map', 'index', 'isalnum', 'isalpha', 'isascii', 'isdecimal', 'isdigit', 'isidentifier', 'islower', 'isnumeric', 'isprintable', 'isspace', 'istitle', 'isupper', 'join', 'ljust', 'lower', 'lstrip', 'maketrans', 'partition', 'removeprefix', 'removesuffix', 'replace', 'rfind', 'rindex', 'rjust', 'rpartition', 'rsplit', 'rstrip', 'split', 'splitlines', 'startswith', 'strip', 'swapcase', 'title', 'translate', 'upper', 'zfill']\n"
          ]
        }
      ]
    },
    {
      "cell_type": "code",
      "source": [
        "class Book:\n",
        "  def __init__(self,title,pages):\n",
        "    self.title=title\n",
        "    self.pages=pages\n",
        "b1=Book(\"Python\",200)\n",
        "b2=Book(\"Java\",300)\n",
        "print(b1.pages+b2.pages)\n",
        "#print(b1+b2)"
      ],
      "metadata": {
        "colab": {
          "base_uri": "https://localhost:8080/"
        },
        "id": "wqVVXyEPiEJq",
        "outputId": "0e1d275b-06c6-46db-9b90-863687f845b7"
      },
      "execution_count": 10,
      "outputs": [
        {
          "output_type": "stream",
          "name": "stdout",
          "text": [
            "500\n"
          ]
        }
      ]
    },
    {
      "cell_type": "code",
      "source": [
        "class Book:\n",
        "  def __init__(self,title,pages):\n",
        "    self.title=title\n",
        "    self.pages=pages\n",
        "b1=Book(\"Python\",200)\n",
        "b2=Book(\"Java\",300)\n",
        "#print(b1.pages+b2.pages)\n",
        "print(b1+b2)"
      ],
      "metadata": {
        "id": "VuklyQztjmmE"
      },
      "execution_count": null,
      "outputs": []
    },
    {
      "cell_type": "code",
      "source": [
        "class Hotel:\n",
        "  def __init__(self,Name,rating,price):\n",
        "    self.Name=Name\n",
        "    self.rating=rating\n",
        "    self.price=price\n",
        "\n",
        "  def __gt__(self,other):\n",
        "        return self.price > other.price\n",
        "  '''  if self.price > other.price:\n",
        "      return True\n",
        "    else:\n",
        "      return False '''\n",
        "\n",
        "\n",
        "h1 = Hotel('A',3.5,3000)\n",
        "h2 = Hotel('B',4.2,4000)\n",
        "\n",
        "print(h1>h2)\n"
      ],
      "metadata": {
        "colab": {
          "base_uri": "https://localhost:8080/"
        },
        "id": "t2-rHh7sjrdr",
        "outputId": "854fe454-3451-4367-ab17-eb351fa43c5a"
      },
      "execution_count": 13,
      "outputs": [
        {
          "output_type": "stream",
          "name": "stdout",
          "text": [
            "False\n"
          ]
        }
      ]
    },
    {
      "cell_type": "code",
      "source": [
        "# Exception Handling\n",
        "n1=input(\"Enter 1st number\")\n",
        "n2=input(\"Enter 2nd number\")\n",
        "try:\n",
        "  div=int(n1)/int(n2)\n",
        "  print(div)\n",
        "except ZeroDivisionError:\n",
        "  print(\"divide by zero is not posible\")\n",
        "except NameError:\n",
        "  print(\"NameError occured\")\n",
        "\n",
        "print(\"rest of the code\")"
      ],
      "metadata": {
        "colab": {
          "base_uri": "https://localhost:8080/"
        },
        "id": "G6EAmnc5mWSr",
        "outputId": "33cca3c4-73e2-4a6e-f9c3-d0b4d1f7a622"
      },
      "execution_count": 10,
      "outputs": [
        {
          "output_type": "stream",
          "name": "stdout",
          "text": [
            "Enter 1st number10\n",
            "Enter 2nd number10\n",
            "NameError occured\n",
            "rest of the code\n"
          ]
        }
      ]
    }
  ]
}