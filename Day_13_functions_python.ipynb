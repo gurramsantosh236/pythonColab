{
  "nbformat": 4,
  "nbformat_minor": 0,
  "metadata": {
    "colab": {
      "provenance": []
    },
    "kernelspec": {
      "name": "python3",
      "display_name": "Python 3"
    },
    "language_info": {
      "name": "python"
    }
  },
  "cells": [
    {
      "cell_type": "code",
      "execution_count": null,
      "metadata": {
        "colab": {
          "base_uri": "https://localhost:8080/"
        },
        "id": "LynczderHEfx",
        "outputId": "341612f5-47fa-4176-cb7a-3453d0392be7"
      },
      "outputs": [
        {
          "output_type": "stream",
          "name": "stdout",
          "text": [
            "Hello World\n"
          ]
        }
      ],
      "source": [
        "print(\"Hello World\")"
      ]
    },
    {
      "cell_type": "code",
      "source": [
        "#Variable length positional argument and variable length keyword arguments\n",
        "def add(*num1,**num2):\n",
        "  print(sum(num1))\n",
        "  print(sum(num2.values()))\n",
        "\n",
        "add(2,5,6,7,9,a=100,b=2000)"
      ],
      "metadata": {
        "colab": {
          "base_uri": "https://localhost:8080/"
        },
        "id": "HnMNMAF6TjsL",
        "outputId": "c8f935b6-4094-423a-a702-65103016dafb"
      },
      "execution_count": null,
      "outputs": [
        {
          "output_type": "stream",
          "name": "stdout",
          "text": [
            "29\n",
            "2100\n"
          ]
        }
      ]
    },
    {
      "cell_type": "code",
      "source": [
        "#positional argument,variable length,keyword,default argument and variable keyword arguments\n",
        "def student(name,clas,*parents_name,age,school='ABC',**marks):\n",
        "  print('Name: ',name)\n",
        "  print('class: ',clas)\n",
        "  print('Parents: ', parents_name)\n",
        "  print('Age: ',age)\n",
        "  print('Marks: ',marks)\n",
        "  print('School: ',school)\n",
        "\n",
        "student('Ravi',5,'A','B',age=12,eng=90,maths=87,science=91)\n",
        "\n"
      ],
      "metadata": {
        "colab": {
          "base_uri": "https://localhost:8080/"
        },
        "id": "JXiAi9_yWlQW",
        "outputId": "b6c3a0fe-ddf0-4bb7-adcf-52dddf4b3882"
      },
      "execution_count": null,
      "outputs": [
        {
          "output_type": "stream",
          "name": "stdout",
          "text": [
            "Name:  Ravi\n",
            "class:  5\n",
            "Parents:  ('A', 'B')\n",
            "Age:  12\n",
            "Marks:  {'eng': 90, 'maths': 87, 'science': 91}\n",
            "School:  ABC\n"
          ]
        }
      ]
    },
    {
      "cell_type": "code",
      "source": [
        "#lambda function to return single expression\n",
        "\n",
        "var=lambda a,b:a+b\n",
        "print(var(10,20))\n",
        "\n",
        "var1=lambda x,y:(x+y,x-y)\n",
        "print(var1(10,20))\n",
        "\n",
        "var2=lambda x,y=2:x+y # default argument\n",
        "print(var2(5 ))\n",
        "\n",
        "var3=lambda x,y=2:x+y # default argument\n",
        "print(var2(x=10 ))"
      ],
      "metadata": {
        "id": "ps9Z_CCbdNh8",
        "outputId": "a0d426e2-e861-4750-c272-543e77fc78c3",
        "colab": {
          "base_uri": "https://localhost:8080/"
        }
      },
      "execution_count": null,
      "outputs": [
        {
          "output_type": "stream",
          "name": "stdout",
          "text": [
            "30\n",
            "(30, -10)\n",
            "7\n",
            "12\n"
          ]
        }
      ]
    },
    {
      "cell_type": "code",
      "source": [
        "# area of a circle using lambda function\n",
        "area = lambda r: 22/7 * r * r\n",
        "print(type(area(7)))\n",
        "print((area(7)))"
      ],
      "metadata": {
        "id": "sDdSTFNOeZ-W",
        "outputId": "db63f774-9fd7-4191-a389-6b2dc3b224f9",
        "colab": {
          "base_uri": "https://localhost:8080/"
        }
      },
      "execution_count": null,
      "outputs": [
        {
          "output_type": "stream",
          "name": "stdout",
          "text": [
            "<class 'float'>\n",
            "154.0\n"
          ]
        }
      ]
    }
  ]
}