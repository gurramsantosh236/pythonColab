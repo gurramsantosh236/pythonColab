{
  "nbformat": 4,
  "nbformat_minor": 0,
  "metadata": {
    "colab": {
      "provenance": []
    },
    "kernelspec": {
      "name": "python3",
      "display_name": "Python 3"
    },
    "language_info": {
      "name": "python"
    }
  },
  "cells": [
    {
      "cell_type": "code",
      "execution_count": null,
      "metadata": {
        "colab": {
          "base_uri": "https://localhost:8080/"
        },
        "id": "LynczderHEfx",
        "outputId": "341612f5-47fa-4176-cb7a-3453d0392be7"
      },
      "outputs": [
        {
          "output_type": "stream",
          "name": "stdout",
          "text": [
            "Hello World\n"
          ]
        }
      ],
      "source": [
        "print(\"Hello World\")"
      ]
    },
    {
      "cell_type": "code",
      "source": [
        "#Variable length positional argument and variable length keyword arguments\n",
        "def add(*num1,**num2):\n",
        "  print(sum(num1))\n",
        "  print(sum(num2.values()))\n",
        "\n",
        "add(2,5,6,7,9,a=100,b=2000)"
      ],
      "metadata": {
        "id": "HnMNMAF6TjsL",
        "outputId": "c8f935b6-4094-423a-a702-65103016dafb",
        "colab": {
          "base_uri": "https://localhost:8080/"
        }
      },
      "execution_count": 1,
      "outputs": [
        {
          "output_type": "stream",
          "name": "stdout",
          "text": [
            "29\n",
            "2100\n"
          ]
        }
      ]
    }
  ]
}