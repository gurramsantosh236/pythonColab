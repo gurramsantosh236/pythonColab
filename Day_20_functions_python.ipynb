{
  "nbformat": 4,
  "nbformat_minor": 0,
  "metadata": {
    "colab": {
      "provenance": [],
      "include_colab_link": true
    },
    "kernelspec": {
      "name": "python3",
      "display_name": "Python 3"
    },
    "language_info": {
      "name": "python"
    }
  },
  "cells": [
    {
      "cell_type": "markdown",
      "metadata": {
        "id": "view-in-github",
        "colab_type": "text"
      },
      "source": [
        "<a href=\"https://colab.research.google.com/github/gurramsantosh236/pythonColab/blob/main/Day_20_functions_python.ipynb\" target=\"_parent\"><img src=\"https://colab.research.google.com/assets/colab-badge.svg\" alt=\"Open In Colab\"/></a>"
      ]
    },
    {
      "cell_type": "code",
      "execution_count": null,
      "metadata": {
        "colab": {
          "base_uri": "https://localhost:8080/"
        },
        "id": "LynczderHEfx",
        "outputId": "341612f5-47fa-4176-cb7a-3453d0392be7"
      },
      "outputs": [
        {
          "output_type": "stream",
          "name": "stdout",
          "text": [
            "Hello World\n"
          ]
        }
      ],
      "source": [
        "print(\"Hello World\")"
      ]
    },
    {
      "cell_type": "code",
      "source": [
        "# pacakges\n",
        "%cd my_project"
      ],
      "metadata": {
        "colab": {
          "base_uri": "https://localhost:8080/"
        },
        "id": "eC5AcVE3yNyT",
        "outputId": "6562efd7-47f8-4ce2-a479-faa152206732"
      },
      "execution_count": null,
      "outputs": [
        {
          "output_type": "stream",
          "name": "stdout",
          "text": [
            "[Errno 2] No such file or directory: 'my_project'\n",
            "/content/my_project\n"
          ]
        }
      ]
    },
    {
      "cell_type": "code",
      "source": [
        "%run main.py"
      ],
      "metadata": {
        "colab": {
          "base_uri": "https://localhost:8080/",
          "height": 176
        },
        "id": "0af4TpiYzIjG",
        "outputId": "d24a7e0a-a5c0-4444-b0b2-521ad8ec1ca9"
      },
      "execution_count": null,
      "outputs": [
        {
          "output_type": "error",
          "ename": "AttributeError",
          "evalue": "module 'my_package' has no attribute 'math_opr'",
          "traceback": [
            "\u001b[0;31m---------------------------------------------------------------------------\u001b[0m",
            "\u001b[0;31mAttributeError\u001b[0m                            Traceback (most recent call last)",
            "\u001b[0;32m/content/my_project/main.py\u001b[0m in \u001b[0;36m<module>\u001b[0;34m\u001b[0m\n\u001b[1;32m      1\u001b[0m \u001b[0;32mimport\u001b[0m \u001b[0mmy_package\u001b[0m \u001b[0;32mas\u001b[0m \u001b[0ma\u001b[0m\u001b[0;34m\u001b[0m\u001b[0;34m\u001b[0m\u001b[0m\n\u001b[1;32m      2\u001b[0m \u001b[0;34m\u001b[0m\u001b[0m\n\u001b[0;32m----> 3\u001b[0;31m \u001b[0mprint\u001b[0m\u001b[0;34m(\u001b[0m\u001b[0ma\u001b[0m\u001b[0;34m.\u001b[0m\u001b[0mmath_opr\u001b[0m\u001b[0;34m.\u001b[0m\u001b[0msum\u001b[0m\u001b[0;34m(\u001b[0m\u001b[0;36m2\u001b[0m\u001b[0;34m,\u001b[0m\u001b[0;36m9\u001b[0m\u001b[0;34m)\u001b[0m\u001b[0;34m)\u001b[0m\u001b[0;34m\u001b[0m\u001b[0;34m\u001b[0m\u001b[0m\n\u001b[0m",
            "\u001b[0;31mAttributeError\u001b[0m: module 'my_package' has no attribute 'math_opr'"
          ]
        }
      ]
    },
    {
      "cell_type": "code",
      "source": [
        "# Bank project\n",
        "class Bank:\n",
        "  bankname=\"Indian Bank\"\n",
        "  branch=\"Belandur,Blr\"\n",
        "\n",
        "  # create account\n",
        "  def __init__(self,username,pan,address):\n",
        "    self.username=username\n",
        "    self.pan=pan\n",
        "    self.address=address\n",
        "    self.balance=0\n",
        "\n",
        "  # deposit\n",
        "  def deposit(self,amount):\n",
        "    self.balance+=amount\n",
        "    print(\"current balance is:\",self.balance)\n",
        "\n",
        "  # withdraw\n",
        "  def withdraw(self,amount):\n",
        "    if amount>self.balance:\n",
        "      print(\"Insufficient balance\")\n",
        "    else:\n",
        "      self.balance-=amount\n",
        "      print(\"remaining balance is:\",self.balance)\n",
        "\n",
        "\n",
        "  # check balance\n",
        "  def check_balance(self):\n",
        "    print(\"current balance in your account:\", self.balance)\n",
        "\n",
        "# collect user data for account creation\n",
        "username=input(\"enter your name\")\n",
        "pan=input(\"enter your pan number\")\n",
        "address=input(\"enter your address\")\n",
        "\n",
        "# create account\n",
        "user_account=Bank(username,pan,address)\n",
        "\n",
        "while True:\n",
        "  print(\"1. Deposit\",\"2. Withdraw\",\"3. Check Balance\",\"4. Exit\")\n",
        "  option = int(input(\"enter ur option\"))\n",
        "\n",
        "   if option ==1:\n",
        "    amt = int(input(\"enter the amount to deposit\"))\n",
        "    b.deposit(amt)\n",
        "\n",
        "   elif option == 2:\n",
        "    amt = int(input(\"enter the amount to withdraw\"))\n",
        "    b.withdraw(amt)\n",
        "\n",
        "   elif option == 3:\n",
        "    b.balance_check()\n",
        "\n",
        "   elif option == 4:\n",
        "    break\n",
        "\n",
        "   else:\n",
        "    print(\"invalid option\")\n"
      ],
      "metadata": {
        "colab": {
          "base_uri": "https://localhost:8080/",
          "height": 106
        },
        "id": "Pclg2Ej22CJv",
        "outputId": "22b039a9-e5e2-415f-a496-7ce3cbf05214"
      },
      "execution_count": 1,
      "outputs": [
        {
          "output_type": "error",
          "ename": "IndentationError",
          "evalue": "unexpected indent (ipython-input-1-309562332.py, line 43)",
          "traceback": [
            "\u001b[0;36m  File \u001b[0;32m\"/tmp/ipython-input-1-309562332.py\"\u001b[0;36m, line \u001b[0;32m43\u001b[0m\n\u001b[0;31m    if option ==1:\u001b[0m\n\u001b[0m    ^\u001b[0m\n\u001b[0;31mIndentationError\u001b[0m\u001b[0;31m:\u001b[0m unexpected indent\n"
          ]
        }
      ]
    },
    {
      "cell_type": "code",
      "source": [
        "old_str = \"Hello\"\n",
        "new_str = old_str\n",
        "new_str = \"World\"\n",
        "print(old_str)\n",
        "print(new_str)\n"
      ],
      "metadata": {
        "id": "cI7qYRRjndYz",
        "outputId": "0d9c963a-bd03-48d6-b59b-13257a02af8c",
        "colab": {
          "base_uri": "https://localhost:8080/"
        }
      },
      "execution_count": 2,
      "outputs": [
        {
          "output_type": "stream",
          "name": "stdout",
          "text": [
            "Hello\n",
            "World\n"
          ]
        }
      ]
    },
    {
      "cell_type": "code",
      "source": [],
      "metadata": {
        "id": "F4N1F7Y626ep"
      },
      "execution_count": null,
      "outputs": []
    },
    {
      "cell_type": "code",
      "source": [
        "#Bank project\n",
        "\n",
        "class Bank:\n",
        "  bankname= \"Indian bank\"\n",
        "  branch = \"Bellandur , Blr\"\n",
        "\n",
        "  #create account\n",
        "  def __init__(self , username , pan, address):\n",
        "    self.username = username\n",
        "    self.pan = pan\n",
        "    self.address = address\n",
        "    self.balance = 0\n",
        "    print(\"account created succesfully\")\n",
        "\n",
        "  def withdraw(self, amt):\n",
        "    if amt< self.balance:\n",
        "      self.balance = self.balance - amt\n",
        "      print(\"remaining balance is \", self.balance)\n",
        "    else:\n",
        "      print(\"insufficient balance\")\n",
        "\n",
        "  def deposit(self, amt):\n",
        "    self.balance = self.balance + amt\n",
        "    print(\"amount deposited successfully\")\n",
        "\n",
        "  def balance_check(self):\n",
        "    print(\"your balance is \", self.balance)\n",
        "\n",
        "\n",
        "# collect user data for account creation\n",
        "\n",
        "\n",
        "username = input(\"enter your name\")\n",
        "pan= input(\"enter ur pan no\")\n",
        "address = input(\"enter ur address\")\n",
        "\n",
        "b = Bank(username, pan, address)\n",
        "\n",
        "\n",
        "while True:\n",
        "   print(\"1. Deposit , 2.withdraw 3.balacecheck 4.quit\")\n",
        "   option = int(input(\"enter ur option\"))\n",
        "\n",
        "   if option ==1:\n",
        "    amt = int(input(\"enter the amount to deposit\"))\n",
        "    b.deposit(amt)\n",
        "\n",
        "   elif option == 2:\n",
        "    amt = int(input(\"enter the amount to withdraw\"))\n",
        "    b.withdraw(amt)\n",
        "\n",
        "   elif option == 3:\n",
        "    b.balance_check()\n",
        "\n",
        "   elif option == 4:\n",
        "    break\n",
        "\n",
        "   else:\n",
        "    print(\"invalid option\")\n",
        "\n",
        "\n"
      ],
      "metadata": {
        "id": "_IFGJp7_6vnl"
      },
      "execution_count": null,
      "outputs": []
    }
  ]
}