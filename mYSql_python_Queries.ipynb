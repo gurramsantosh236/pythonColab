show databases;
create database python_db
use python_db;
create table users(ID integer auto_increment primary key, Name varchar(50), AGE varchar(50), CITY varchar(50));
select * from users
insert into users(Name,AGE,CITY) values ("RAM",23,"Delhi")
