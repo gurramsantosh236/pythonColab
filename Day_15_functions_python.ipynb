{
  "nbformat": 4,
  "nbformat_minor": 0,
  "metadata": {
    "colab": {
      "provenance": [],
      "include_colab_link": true
    },
    "kernelspec": {
      "name": "python3",
      "display_name": "Python 3"
    },
    "language_info": {
      "name": "python"
    }
  },
  "cells": [
    {
      "cell_type": "markdown",
      "metadata": {
        "id": "view-in-github",
        "colab_type": "text"
      },
      "source": [
        "<a href=\"https://colab.research.google.com/github/gurramsantosh236/pythonColab/blob/main/Day_15_functions_python.ipynb\" target=\"_parent\"><img src=\"https://colab.research.google.com/assets/colab-badge.svg\" alt=\"Open In Colab\"/></a>"
      ]
    },
    {
      "cell_type": "code",
      "execution_count": null,
      "metadata": {
        "colab": {
          "base_uri": "https://localhost:8080/"
        },
        "id": "LynczderHEfx",
        "outputId": "341612f5-47fa-4176-cb7a-3453d0392be7"
      },
      "outputs": [
        {
          "output_type": "stream",
          "name": "stdout",
          "text": [
            "Hello World\n"
          ]
        }
      ],
      "source": [
        "print(\"Hello World\")"
      ]
    },
    {
      "cell_type": "code",
      "source": [
        "# class and Objects\n",
        "\n",
        "class Calculator:\n",
        "  n1=0    # attributes\n",
        "  n2=0\n",
        "  res = 0\n",
        "\n",
        "  def __init__(self,n1,n2):  # methods\n",
        "    self.n1=0\n",
        "    self.n2=0\n",
        "    self.res=0\n",
        "\n",
        "  def add(self , n1,n2):\n",
        "    pass\n",
        "\n",
        "  def sub(self , n1,n2):\n",
        "    pass\n",
        "\n",
        "  def mul(self , n1,n2):\n",
        "    pass\n",
        "\n",
        "  def div(self , n1,n2):\n",
        "    pass\n",
        "\n",
        "\n",
        "\n",
        "ob1 = Calculator(10,20) # obj1 creation\n",
        "ob2 = Calculator(100,200) # obj2 creation"
      ],
      "metadata": {
        "id": "Om2NLLTLlzCa"
      },
      "execution_count": null,
      "outputs": []
    },
    {
      "cell_type": "code",
      "source": [
        "# Class Sample\n",
        "class Sample:\n",
        "  def __init__(self):\n",
        "    self.data=10\n",
        "\n",
        "  def input_data(self):\n",
        "    self.data = int(input(\"Enter a number\"))\n",
        "\n",
        "  def display(self):\n",
        "    print(self.data)\n",
        "\n",
        "\n",
        "ob1 = Sample()\n",
        "ob1.display()"
      ],
      "metadata": {
        "id": "lxRn8vjWpTo8"
      },
      "execution_count": null,
      "outputs": []
    },
    {
      "cell_type": "code",
      "source": [
        "class Calculator:\n",
        "  def __init__(self):\n",
        "    self.n1=0\n",
        "    self.n2=0\n",
        "    self.res=0\n",
        "  def add(self,n1,n2):\n",
        "    self.res=n1+n2\n",
        "    print(self.res)\n",
        "  def sub(self,n1,n2):\n",
        "    self.res=n1-n2\n",
        "    print(self.res)\n",
        "  def mul(self,n1,n2):\n",
        "    self.res=n1*n2\n",
        "    print(self.res)\n",
        "  def div(self,n1,n2):\n",
        "    self.res=n1/n2\n",
        "    print(self.res)\n",
        "\n",
        "\n",
        "obj1=Calculator()\n",
        "obj2=Calculator()\n",
        "obj3=Calculator()\n",
        "obj4=Calculator()\n",
        "\n",
        "obj1.add(10,20)\n",
        "obj2.sub(10,20)\n",
        "obj3.mul(10,20)\n",
        "obj4.div(10,20)\n",
        "\n",
        "obj1.div(24,4)\n",
        "obj1.mul(24,4)\n",
        "obj1.sub(24,4)\n",
        "obj1.add(24,4)"
      ],
      "metadata": {
        "colab": {
          "base_uri": "https://localhost:8080/"
        },
        "id": "uDKBGDg2p8cc",
        "outputId": "0b4908a8-6ab8-43dd-896a-3249398c8c7e"
      },
      "execution_count": 6,
      "outputs": [
        {
          "output_type": "stream",
          "name": "stdout",
          "text": [
            "30\n",
            "-10\n",
            "200\n",
            "0.5\n",
            "6.0\n",
            "96\n",
            "20\n",
            "28\n"
          ]
        }
      ]
    },
    {
      "cell_type": "code",
      "source": [
        "# Student details\n",
        "class Student:\n",
        "  def __init__(self):\n",
        "    self.name=\"\"\n",
        "    self.age=0\n",
        "    self.m1=0\n",
        "    self.m2=0\n",
        "    self.m3=0\n",
        "    self.total=0\n",
        "    self.avg=0\n",
        "  def input_data(self):\n",
        "    self.name=input(\"Enter name\")\n",
        "    self.age=int(input(\"Enter age\"))\n",
        "    self.m1=int(input(\"Enter marks1\"))\n",
        "    self.m2=int(input(\"Enter marks2\"))\n",
        "    self.m3=int(input(\"Enter marks3\"))\n",
        "  def calculate(self):\n",
        "    self.total=self.m1+self.m2+self.m3\n",
        "    self.avg=self.total/3\n",
        "    print(self.total)\n",
        "    print(self.avg)\n",
        "    print(self.name)\n",
        "    print(self.age)\n",
        "  def display(self):\n",
        "    print(self.name)\n",
        "    print(self.age)\n",
        "    print(self.m1)\n",
        "    print(self.m2)\n",
        "    print(self.m3)\n",
        "\n",
        "\n",
        "obj1=Student()\n",
        "obj2=Student()\n",
        "obj3=Student()\n",
        "\n",
        "obj1.input_data()\n",
        "obj1.calculate()\n",
        "obj1.display()"
      ],
      "metadata": {
        "id": "zkjZdygZxo_h"
      },
      "execution_count": null,
      "outputs": []
    }
  ]
}