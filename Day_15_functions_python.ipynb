{
  "nbformat": 4,
  "nbformat_minor": 0,
  "metadata": {
    "colab": {
      "provenance": [],
      "include_colab_link": true
    },
    "kernelspec": {
      "name": "python3",
      "display_name": "Python 3"
    },
    "language_info": {
      "name": "python"
    }
  },
  "cells": [
    {
      "cell_type": "markdown",
      "metadata": {
        "id": "view-in-github",
        "colab_type": "text"
      },
      "source": [
        "<a href=\"https://colab.research.google.com/github/gurramsantosh236/pythonColab/blob/main/Day_15_functions_python.ipynb\" target=\"_parent\"><img src=\"https://colab.research.google.com/assets/colab-badge.svg\" alt=\"Open In Colab\"/></a>"
      ]
    },
    {
      "cell_type": "code",
      "execution_count": null,
      "metadata": {
        "colab": {
          "base_uri": "https://localhost:8080/"
        },
        "id": "LynczderHEfx",
        "outputId": "341612f5-47fa-4176-cb7a-3453d0392be7"
      },
      "outputs": [
        {
          "output_type": "stream",
          "name": "stdout",
          "text": [
            "Hello World\n"
          ]
        }
      ],
      "source": [
        "print(\"Hello World\")"
      ]
    },
    {
      "cell_type": "code",
      "source": [
        "# class and Objects\n",
        "\n",
        "class Calculator:\n",
        "  n1=0    # attributes\n",
        "  n2=0\n",
        "  res = 0\n",
        "\n",
        "  def __init__(self,n1,n2):  # methods\n",
        "    self.n1=0\n",
        "    self.n2=0\n",
        "    self.res=0\n",
        "\n",
        "  def add(self , n1,n2):\n",
        "    pass\n",
        "\n",
        "  def sub(self , n1,n2):\n",
        "    pass\n",
        "\n",
        "  def mul(self , n1,n2):\n",
        "    pass\n",
        "\n",
        "  def div(self , n1,n2):\n",
        "    pass\n",
        "\n",
        "\n",
        "\n",
        "ob1 = Calculator(10,20) # obj1 creation\n",
        "ob2 = Calculator(100,200) # obj2 creation"
      ],
      "metadata": {
        "id": "Om2NLLTLlzCa"
      },
      "execution_count": null,
      "outputs": []
    },
    {
      "cell_type": "code",
      "source": [
        "# Class Sample\n",
        "class Sample:\n",
        "  def __init__(self):\n",
        "    self.data=10\n",
        "\n",
        "  def input_data(self):\n",
        "    self.data = int(input(\"Enter a number\"))\n",
        "\n",
        "  def display(self):\n",
        "    print(self.data)\n",
        "\n",
        "\n",
        "ob1 = Sample()\n",
        "ob1.display()"
      ],
      "metadata": {
        "id": "lxRn8vjWpTo8"
      },
      "execution_count": null,
      "outputs": []
    },
    {
      "cell_type": "code",
      "source": [
        "class Calculator:\n",
        "  def __init__(self):\n",
        "    self.n1=0\n",
        "    self.n2=0\n",
        "    self.res=0\n",
        "  def add(self,n1,n2):\n",
        "    self.res=n1+n2\n",
        "    print(self.res)\n",
        "  def sub(self,n1,n2):\n",
        "    self.res=n1-n2\n",
        "    print(self.res)\n",
        "  def mul(self,n1,n2):\n",
        "    self.res=n1*n2\n",
        "    print(self.res)\n",
        "  def div(self,n1,n2):\n",
        "    self.res=n1/n2\n",
        "    print(self.res)\n",
        "\n",
        "\n",
        "obj1=Calculator()\n",
        "obj2=Calculator()\n",
        "obj3=Calculator()\n",
        "obj4=Calculator()\n",
        "\n",
        "obj1.add(10,20)\n",
        "obj2.sub(10,20)\n",
        "obj3.mul(10,20)\n",
        "obj4.div(10,20)\n",
        "\n",
        "obj1.div(24,4)\n",
        "obj1.mul(24,4)\n",
        "obj1.sub(24,4)\n",
        "obj1.add(24,4)"
      ],
      "metadata": {
        "colab": {
          "base_uri": "https://localhost:8080/"
        },
        "id": "uDKBGDg2p8cc",
        "outputId": "0b4908a8-6ab8-43dd-896a-3249398c8c7e"
      },
      "execution_count": 6,
      "outputs": [
        {
          "output_type": "stream",
          "name": "stdout",
          "text": [
            "30\n",
            "-10\n",
            "200\n",
            "0.5\n",
            "6.0\n",
            "96\n",
            "20\n",
            "28\n"
          ]
        }
      ]
    },
    {
      "cell_type": "code",
      "source": [
        "# Student details\n",
        "class Student:\n",
        "  def __init__(self):\n",
        "    self.name=\"\"\n",
        "    self.age=0\n",
        "    self.m1=0\n",
        "    self.m2=0\n",
        "    self.m3=0\n",
        "    self.total=0\n",
        "    self.avg=0\n",
        "  def input_data(self):\n",
        "    self.name=input(\"Enter name\")\n",
        "    self.age=int(input(\"Enter age\"))\n",
        "    self.m1=int(input(\"Enter marks1\"))\n",
        "    self.m2=int(input(\"Enter marks2\"))\n",
        "    self.m3=int(input(\"Enter marks3\"))\n",
        "  def calculate(self):\n",
        "    self.total=self.m1+self.m2+self.m3\n",
        "    self.avg=self.total/3\n",
        "    print(self.total)\n",
        "    print(self.avg)\n",
        "    print(self.name)\n",
        "    print(self.age)\n",
        "  def display(self):\n",
        "    print(\"Name:\",self.name)\n",
        "    print(\"Age:\",self.age)\n",
        "    print(\"M1:\",self.m1)\n",
        "    print(\"M2\",self.m2)\n",
        "    print(\"M3\",self.m3)\n",
        "    print(\"----------\")\n",
        "\n",
        "\n",
        "obj1=Student()\n",
        "obj2=Student()\n",
        "obj3=Student()\n",
        "\n",
        "obj1.input_data()\n",
        "obj1.calculate()\n",
        "obj1.display()\n",
        "\n",
        "obj2.input_data()\n",
        "obj2.calculate()\n",
        "obj2.display()"
      ],
      "metadata": {
        "colab": {
          "base_uri": "https://localhost:8080/"
        },
        "id": "zkjZdygZxo_h",
        "outputId": "35a81e5a-a9f2-48d8-f9d2-a26401d261b2"
      },
      "execution_count": 9,
      "outputs": [
        {
          "output_type": "stream",
          "name": "stdout",
          "text": [
            "Enter name1st student\n",
            "Enter age40\n",
            "Enter marks130\n",
            "Enter marks240\n",
            "Enter marks350\n",
            "120\n",
            "40.0\n",
            "1st student\n",
            "40\n",
            "Name: 1st student\n",
            "Age: 40\n",
            "M1: 30\n",
            "M2 40\n",
            "M3 50\n",
            "----------\n",
            "Enter namekumar\n",
            "Enter age60\n",
            "Enter marks150\n",
            "Enter marks250\n",
            "Enter marks350\n",
            "150\n",
            "50.0\n",
            "kumar\n",
            "60\n",
            "Name: \n",
            "Age: 0\n",
            "M1: 0\n",
            "M2 0\n",
            "M3 0\n",
            "----------\n"
          ]
        }
      ]
    },
    {
      "cell_type": "code",
      "source": [
        "# parameterised constructor\n",
        "class Test:\n",
        "\n",
        "  def __init__(self,aa,bb):\n",
        "    self.a=aa\n",
        "    self.b=bb\n",
        "  def display(self):\n",
        "    print(self.a)\n",
        "    print(self.b)\n",
        "\n",
        "obj1=Test(10,20)\n",
        "obj1.display()\n",
        "\n"
      ],
      "metadata": {
        "colab": {
          "base_uri": "https://localhost:8080/"
        },
        "id": "sfa1OFYr2O0C",
        "outputId": "ba0c5ac9-7956-48dd-80fb-7354a6cec081"
      },
      "execution_count": 11,
      "outputs": [
        {
          "output_type": "stream",
          "name": "stdout",
          "text": [
            "10\n",
            "20\n"
          ]
        }
      ]
    },
    {
      "cell_type": "code",
      "source": [
        "#Emp Name,Emp Id,\n",
        "class Employer:\n",
        "  def __init__(self,empName,empid,empbasicsal,empbonus,empfinalsal):\n",
        "    self.name=empName\n",
        "    self.id=empid\n",
        "    self.basicsalary=empbasicsal\n",
        "    self.bonus=empbonus\n",
        "    self.Finalsalary=empfinalsal\n",
        "\n",
        "\n",
        "  def calculate_salary(self):\n",
        "    self.Finalsalary=self.basicsalary+self.bonus+self.Finalsalary\n",
        "  def display(self):\n",
        "    print(\"Name:\",self.name)\n",
        "    print(\"Id:\",self.id)\n",
        "    print(\"Basicsalary:\",self.basicsalary)\n",
        "    print(\"Bonus:\",self.bonus)\n",
        "    print(\"Finalsalary:\",self.Finalsalary)\n",
        "\n",
        "obj1=Employer(\"santosh\",4555,1000,200,3000)\n",
        "obj1.calculate_salary()\n",
        "obj1.display()\n",
        "\n"
      ],
      "metadata": {
        "colab": {
          "base_uri": "https://localhost:8080/"
        },
        "id": "f89Lb-4j3D2p",
        "outputId": "03787819-f634-41ae-f898-13e28b825577"
      },
      "execution_count": 14,
      "outputs": [
        {
          "output_type": "stream",
          "name": "stdout",
          "text": [
            "Name: santosh\n",
            "Id: 4555\n",
            "Basicsalary: 1000\n",
            "Bonus: 200\n",
            "Finalsalary: 4200\n"
          ]
        }
      ]
    }
  ]
}