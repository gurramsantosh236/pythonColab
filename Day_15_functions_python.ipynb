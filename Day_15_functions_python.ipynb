{
  "nbformat": 4,
  "nbformat_minor": 0,
  "metadata": {
    "colab": {
      "provenance": []
    },
    "kernelspec": {
      "name": "python3",
      "display_name": "Python 3"
    },
    "language_info": {
      "name": "python"
    }
  },
  "cells": [
    {
      "cell_type": "code",
      "execution_count": null,
      "metadata": {
        "colab": {
          "base_uri": "https://localhost:8080/"
        },
        "id": "LynczderHEfx",
        "outputId": "341612f5-47fa-4176-cb7a-3453d0392be7"
      },
      "outputs": [
        {
          "output_type": "stream",
          "name": "stdout",
          "text": [
            "Hello World\n"
          ]
        }
      ],
      "source": [
        "print(\"Hello World\")"
      ]
    },
    {
      "cell_type": "code",
      "source": [
        "# class and Objects\n",
        "\n",
        "class Calculator:\n",
        "  n1=0    # attributes\n",
        "  n2=0\n",
        "  res = 0\n",
        "\n",
        "  def __init__(self,n1,n2):  # methods\n",
        "    self.n1=0\n",
        "    self.n2=0\n",
        "    self.res=0\n",
        "\n",
        "  def add(self , n1,n2):\n",
        "    pass\n",
        "\n",
        "  def sub(self , n1,n2):\n",
        "    pass\n",
        "\n",
        "  def mul(self , n1,n2):\n",
        "    pass\n",
        "\n",
        "  def div(self , n1,n2):\n",
        "    pass\n",
        "\n",
        "\n",
        "\n",
        "ob1 = Calculator(10,20) # obj1 creation\n",
        "ob2 = Calculator(100,200) # obj2 creation"
      ],
      "metadata": {
        "id": "Om2NLLTLlzCa"
      },
      "execution_count": null,
      "outputs": []
    }
  ]
}